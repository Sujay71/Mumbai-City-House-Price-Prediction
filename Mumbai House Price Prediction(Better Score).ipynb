{
 "cells": [
  {
   "cell_type": "code",
   "execution_count": 1,
   "metadata": {
    "id": "VbG449sSxIgM"
   },
   "outputs": [],
   "source": [
    "#Importing pandas and numpy\n",
    "import pandas as pd\n",
    "import numpy as np"
   ]
  },
  {
   "cell_type": "code",
   "execution_count": 2,
   "metadata": {
    "id": "BMRP6hr2yvJD"
   },
   "outputs": [],
   "source": [
    "#Reading dataframe\n",
    "data = pd.read_csv('Mumbai_Realty(Cleaned).csv')"
   ]
  },
  {
   "cell_type": "code",
   "execution_count": 3,
   "metadata": {
    "colab": {
     "base_uri": "https://localhost:8080/",
     "height": 223
    },
    "id": "IG25anHBzBVC",
    "outputId": "2b98b5eb-d19f-4328-c522-7cd743988407"
   },
   "outputs": [
    {
     "data": {
      "text/html": [
       "<div>\n",
       "<style scoped>\n",
       "    .dataframe tbody tr th:only-of-type {\n",
       "        vertical-align: middle;\n",
       "    }\n",
       "\n",
       "    .dataframe tbody tr th {\n",
       "        vertical-align: top;\n",
       "    }\n",
       "\n",
       "    .dataframe thead th {\n",
       "        text-align: right;\n",
       "    }\n",
       "</style>\n",
       "<table border=\"1\" class=\"dataframe\">\n",
       "  <thead>\n",
       "    <tr style=\"text-align: right;\">\n",
       "      <th></th>\n",
       "      <th>price</th>\n",
       "      <th>sqrt</th>\n",
       "      <th>location</th>\n",
       "      <th>bhk</th>\n",
       "      <th>New/Resale</th>\n",
       "      <th>Gymnasium</th>\n",
       "      <th>Lift Available</th>\n",
       "      <th>CarParking</th>\n",
       "      <th>Maintenance Staff</th>\n",
       "      <th>24x7 Security</th>\n",
       "      <th>Children's Play Area</th>\n",
       "      <th>Clubhouse</th>\n",
       "      <th>Intercom</th>\n",
       "      <th>Landscaped Gardens</th>\n",
       "      <th>Indoor Games</th>\n",
       "      <th>Gas Connection</th>\n",
       "      <th>Jogging Track</th>\n",
       "      <th>Swimming Pool</th>\n",
       "    </tr>\n",
       "  </thead>\n",
       "  <tbody>\n",
       "    <tr>\n",
       "      <th>0</th>\n",
       "      <td>4850000</td>\n",
       "      <td>720</td>\n",
       "      <td>Kharghar</td>\n",
       "      <td>1</td>\n",
       "      <td>0</td>\n",
       "      <td>0</td>\n",
       "      <td>1</td>\n",
       "      <td>1</td>\n",
       "      <td>1</td>\n",
       "      <td>1</td>\n",
       "      <td>0</td>\n",
       "      <td>0</td>\n",
       "      <td>0</td>\n",
       "      <td>0</td>\n",
       "      <td>0</td>\n",
       "      <td>0</td>\n",
       "      <td>0</td>\n",
       "      <td>0</td>\n",
       "    </tr>\n",
       "    <tr>\n",
       "      <th>1</th>\n",
       "      <td>4500000</td>\n",
       "      <td>600</td>\n",
       "      <td>Kharghar</td>\n",
       "      <td>1</td>\n",
       "      <td>0</td>\n",
       "      <td>1</td>\n",
       "      <td>1</td>\n",
       "      <td>1</td>\n",
       "      <td>1</td>\n",
       "      <td>1</td>\n",
       "      <td>0</td>\n",
       "      <td>1</td>\n",
       "      <td>0</td>\n",
       "      <td>0</td>\n",
       "      <td>0</td>\n",
       "      <td>0</td>\n",
       "      <td>1</td>\n",
       "      <td>1</td>\n",
       "    </tr>\n",
       "    <tr>\n",
       "      <th>2</th>\n",
       "      <td>6700000</td>\n",
       "      <td>650</td>\n",
       "      <td>Kharghar</td>\n",
       "      <td>1</td>\n",
       "      <td>0</td>\n",
       "      <td>1</td>\n",
       "      <td>1</td>\n",
       "      <td>1</td>\n",
       "      <td>1</td>\n",
       "      <td>1</td>\n",
       "      <td>1</td>\n",
       "      <td>1</td>\n",
       "      <td>1</td>\n",
       "      <td>0</td>\n",
       "      <td>0</td>\n",
       "      <td>0</td>\n",
       "      <td>1</td>\n",
       "      <td>1</td>\n",
       "    </tr>\n",
       "    <tr>\n",
       "      <th>3</th>\n",
       "      <td>4500000</td>\n",
       "      <td>650</td>\n",
       "      <td>Kharghar</td>\n",
       "      <td>1</td>\n",
       "      <td>0</td>\n",
       "      <td>0</td>\n",
       "      <td>1</td>\n",
       "      <td>1</td>\n",
       "      <td>1</td>\n",
       "      <td>1</td>\n",
       "      <td>0</td>\n",
       "      <td>0</td>\n",
       "      <td>1</td>\n",
       "      <td>1</td>\n",
       "      <td>0</td>\n",
       "      <td>0</td>\n",
       "      <td>0</td>\n",
       "      <td>0</td>\n",
       "    </tr>\n",
       "    <tr>\n",
       "      <th>4</th>\n",
       "      <td>5000000</td>\n",
       "      <td>665</td>\n",
       "      <td>Kharghar</td>\n",
       "      <td>1</td>\n",
       "      <td>0</td>\n",
       "      <td>0</td>\n",
       "      <td>1</td>\n",
       "      <td>1</td>\n",
       "      <td>1</td>\n",
       "      <td>1</td>\n",
       "      <td>0</td>\n",
       "      <td>0</td>\n",
       "      <td>1</td>\n",
       "      <td>1</td>\n",
       "      <td>0</td>\n",
       "      <td>0</td>\n",
       "      <td>0</td>\n",
       "      <td>0</td>\n",
       "    </tr>\n",
       "  </tbody>\n",
       "</table>\n",
       "</div>"
      ],
      "text/plain": [
       "     price  sqrt  location  bhk  New/Resale  Gymnasium  Lift Available  \\\n",
       "0  4850000   720  Kharghar    1           0          0               1   \n",
       "1  4500000   600  Kharghar    1           0          1               1   \n",
       "2  6700000   650  Kharghar    1           0          1               1   \n",
       "3  4500000   650  Kharghar    1           0          0               1   \n",
       "4  5000000   665  Kharghar    1           0          0               1   \n",
       "\n",
       "   CarParking  Maintenance Staff  24x7 Security  Children's Play Area  \\\n",
       "0           1                  1              1                     0   \n",
       "1           1                  1              1                     0   \n",
       "2           1                  1              1                     1   \n",
       "3           1                  1              1                     0   \n",
       "4           1                  1              1                     0   \n",
       "\n",
       "   Clubhouse  Intercom  Landscaped Gardens  Indoor Games  Gas Connection  \\\n",
       "0          0         0                   0             0               0   \n",
       "1          1         0                   0             0               0   \n",
       "2          1         1                   0             0               0   \n",
       "3          0         1                   1             0               0   \n",
       "4          0         1                   1             0               0   \n",
       "\n",
       "   Jogging Track  Swimming Pool  \n",
       "0              0              0  \n",
       "1              1              1  \n",
       "2              1              1  \n",
       "3              0              0  \n",
       "4              0              0  "
      ]
     },
     "execution_count": 3,
     "metadata": {},
     "output_type": "execute_result"
    }
   ],
   "source": [
    "#Displaying first 5 rows\n",
    "data.head()"
   ]
  },
  {
   "cell_type": "code",
   "execution_count": 4,
   "metadata": {
    "colab": {
     "base_uri": "https://localhost:8080/",
     "height": 275
    },
    "id": "45MMX6HlzFVE",
    "outputId": "cc292597-2973-4e79-c881-185e01b70666"
   },
   "outputs": [
    {
     "data": {
      "text/html": [
       "<div>\n",
       "<style scoped>\n",
       "    .dataframe tbody tr th:only-of-type {\n",
       "        vertical-align: middle;\n",
       "    }\n",
       "\n",
       "    .dataframe tbody tr th {\n",
       "        vertical-align: top;\n",
       "    }\n",
       "\n",
       "    .dataframe thead th {\n",
       "        text-align: right;\n",
       "    }\n",
       "</style>\n",
       "<table border=\"1\" class=\"dataframe\">\n",
       "  <thead>\n",
       "    <tr style=\"text-align: right;\">\n",
       "      <th></th>\n",
       "      <th>price</th>\n",
       "      <th>sqrt</th>\n",
       "      <th>location</th>\n",
       "      <th>bhk</th>\n",
       "      <th>New/Resale</th>\n",
       "      <th>Gymnasium</th>\n",
       "      <th>Lift Available</th>\n",
       "      <th>CarParking</th>\n",
       "      <th>Maintenance Staff</th>\n",
       "      <th>24x7 Security</th>\n",
       "      <th>Children's Play Area</th>\n",
       "      <th>Clubhouse</th>\n",
       "      <th>Intercom</th>\n",
       "      <th>Landscaped Gardens</th>\n",
       "      <th>Indoor Games</th>\n",
       "      <th>Gas Connection</th>\n",
       "      <th>Jogging Track</th>\n",
       "      <th>Swimming Pool</th>\n",
       "    </tr>\n",
       "  </thead>\n",
       "  <tbody>\n",
       "    <tr>\n",
       "      <th>6288</th>\n",
       "      <td>2485000</td>\n",
       "      <td>700</td>\n",
       "      <td>Shirgaon</td>\n",
       "      <td>1</td>\n",
       "      <td>1</td>\n",
       "      <td>0</td>\n",
       "      <td>0</td>\n",
       "      <td>0</td>\n",
       "      <td>0</td>\n",
       "      <td>0</td>\n",
       "      <td>0</td>\n",
       "      <td>0</td>\n",
       "      <td>0</td>\n",
       "      <td>0</td>\n",
       "      <td>0</td>\n",
       "      <td>0</td>\n",
       "      <td>0</td>\n",
       "      <td>0</td>\n",
       "    </tr>\n",
       "    <tr>\n",
       "      <th>6289</th>\n",
       "      <td>14500000</td>\n",
       "      <td>900</td>\n",
       "      <td>Thane West</td>\n",
       "      <td>2</td>\n",
       "      <td>0</td>\n",
       "      <td>0</td>\n",
       "      <td>0</td>\n",
       "      <td>0</td>\n",
       "      <td>0</td>\n",
       "      <td>0</td>\n",
       "      <td>0</td>\n",
       "      <td>0</td>\n",
       "      <td>0</td>\n",
       "      <td>0</td>\n",
       "      <td>0</td>\n",
       "      <td>0</td>\n",
       "      <td>0</td>\n",
       "      <td>0</td>\n",
       "    </tr>\n",
       "    <tr>\n",
       "      <th>6290</th>\n",
       "      <td>14500000</td>\n",
       "      <td>900</td>\n",
       "      <td>Thane West</td>\n",
       "      <td>2</td>\n",
       "      <td>0</td>\n",
       "      <td>0</td>\n",
       "      <td>1</td>\n",
       "      <td>0</td>\n",
       "      <td>0</td>\n",
       "      <td>0</td>\n",
       "      <td>0</td>\n",
       "      <td>0</td>\n",
       "      <td>1</td>\n",
       "      <td>0</td>\n",
       "      <td>0</td>\n",
       "      <td>1</td>\n",
       "      <td>0</td>\n",
       "      <td>0</td>\n",
       "    </tr>\n",
       "    <tr>\n",
       "      <th>6291</th>\n",
       "      <td>4100000</td>\n",
       "      <td>1380</td>\n",
       "      <td>Boisar</td>\n",
       "      <td>3</td>\n",
       "      <td>0</td>\n",
       "      <td>0</td>\n",
       "      <td>0</td>\n",
       "      <td>0</td>\n",
       "      <td>0</td>\n",
       "      <td>0</td>\n",
       "      <td>0</td>\n",
       "      <td>0</td>\n",
       "      <td>0</td>\n",
       "      <td>0</td>\n",
       "      <td>0</td>\n",
       "      <td>0</td>\n",
       "      <td>0</td>\n",
       "      <td>0</td>\n",
       "    </tr>\n",
       "    <tr>\n",
       "      <th>6292</th>\n",
       "      <td>2750000</td>\n",
       "      <td>700</td>\n",
       "      <td>Badlapur East</td>\n",
       "      <td>1</td>\n",
       "      <td>1</td>\n",
       "      <td>1</td>\n",
       "      <td>1</td>\n",
       "      <td>1</td>\n",
       "      <td>0</td>\n",
       "      <td>1</td>\n",
       "      <td>1</td>\n",
       "      <td>1</td>\n",
       "      <td>0</td>\n",
       "      <td>1</td>\n",
       "      <td>1</td>\n",
       "      <td>0</td>\n",
       "      <td>1</td>\n",
       "      <td>1</td>\n",
       "    </tr>\n",
       "  </tbody>\n",
       "</table>\n",
       "</div>"
      ],
      "text/plain": [
       "         price  sqrt       location  bhk  New/Resale  Gymnasium  \\\n",
       "6288   2485000   700       Shirgaon    1           1          0   \n",
       "6289  14500000   900     Thane West    2           0          0   \n",
       "6290  14500000   900     Thane West    2           0          0   \n",
       "6291   4100000  1380         Boisar    3           0          0   \n",
       "6292   2750000   700  Badlapur East    1           1          1   \n",
       "\n",
       "      Lift Available  CarParking  Maintenance Staff  24x7 Security  \\\n",
       "6288               0           0                  0              0   \n",
       "6289               0           0                  0              0   \n",
       "6290               1           0                  0              0   \n",
       "6291               0           0                  0              0   \n",
       "6292               1           1                  0              1   \n",
       "\n",
       "      Children's Play Area  Clubhouse  Intercom  Landscaped Gardens  \\\n",
       "6288                     0          0         0                   0   \n",
       "6289                     0          0         0                   0   \n",
       "6290                     0          0         1                   0   \n",
       "6291                     0          0         0                   0   \n",
       "6292                     1          1         0                   1   \n",
       "\n",
       "      Indoor Games  Gas Connection  Jogging Track  Swimming Pool  \n",
       "6288             0               0              0              0  \n",
       "6289             0               0              0              0  \n",
       "6290             0               1              0              0  \n",
       "6291             0               0              0              0  \n",
       "6292             1               0              1              1  "
      ]
     },
     "execution_count": 4,
     "metadata": {},
     "output_type": "execute_result"
    }
   ],
   "source": [
    "#displaying last 5 rows\n",
    "data.tail()"
   ]
  },
  {
   "cell_type": "code",
   "execution_count": 5,
   "metadata": {
    "colab": {
     "base_uri": "https://localhost:8080/"
    },
    "id": "mf58TbrSzMQK",
    "outputId": "969426c6-e376-4b28-adf2-db51fdc438cc"
   },
   "outputs": [
    {
     "data": {
      "text/plain": [
       "(6293, 18)"
      ]
     },
     "execution_count": 5,
     "metadata": {},
     "output_type": "execute_result"
    }
   ],
   "source": [
    "#Total Number of rows and columns (6292 rows and 15 columns)\n",
    "data.shape"
   ]
  },
  {
   "cell_type": "code",
   "execution_count": 6,
   "metadata": {
    "colab": {
     "base_uri": "https://localhost:8080/"
    },
    "id": "aglBACdKziFV",
    "outputId": "0825380a-06da-4be0-82b3-547aed35a729"
   },
   "outputs": [
    {
     "name": "stdout",
     "output_type": "stream",
     "text": [
      "<class 'pandas.core.frame.DataFrame'>\n",
      "RangeIndex: 6293 entries, 0 to 6292\n",
      "Data columns (total 18 columns):\n",
      " #   Column                Non-Null Count  Dtype \n",
      "---  ------                --------------  ----- \n",
      " 0   price                 6293 non-null   int64 \n",
      " 1   sqrt                  6293 non-null   int64 \n",
      " 2   location              6293 non-null   object\n",
      " 3   bhk                   6293 non-null   int64 \n",
      " 4   New/Resale            6293 non-null   int64 \n",
      " 5   Gymnasium             6293 non-null   int64 \n",
      " 6   Lift Available        6293 non-null   int64 \n",
      " 7   CarParking            6293 non-null   int64 \n",
      " 8   Maintenance Staff     6293 non-null   int64 \n",
      " 9   24x7 Security         6293 non-null   int64 \n",
      " 10  Children's Play Area  6293 non-null   int64 \n",
      " 11  Clubhouse             6293 non-null   int64 \n",
      " 12  Intercom              6293 non-null   int64 \n",
      " 13  Landscaped Gardens    6293 non-null   int64 \n",
      " 14  Indoor Games          6293 non-null   int64 \n",
      " 15  Gas Connection        6293 non-null   int64 \n",
      " 16  Jogging Track         6293 non-null   int64 \n",
      " 17  Swimming Pool         6293 non-null   int64 \n",
      "dtypes: int64(17), object(1)\n",
      "memory usage: 885.1+ KB\n"
     ]
    }
   ],
   "source": [
    "#information of the data shown\n",
    "data.info()"
   ]
  },
  {
   "cell_type": "code",
   "execution_count": 7,
   "metadata": {
    "colab": {
     "base_uri": "https://localhost:8080/",
     "height": 337
    },
    "id": "vlSckZq5zmtY",
    "outputId": "779abee3-929b-45df-a341-a427e5671e91"
   },
   "outputs": [
    {
     "data": {
      "text/html": [
       "<div>\n",
       "<style scoped>\n",
       "    .dataframe tbody tr th:only-of-type {\n",
       "        vertical-align: middle;\n",
       "    }\n",
       "\n",
       "    .dataframe tbody tr th {\n",
       "        vertical-align: top;\n",
       "    }\n",
       "\n",
       "    .dataframe thead th {\n",
       "        text-align: right;\n",
       "    }\n",
       "</style>\n",
       "<table border=\"1\" class=\"dataframe\">\n",
       "  <thead>\n",
       "    <tr style=\"text-align: right;\">\n",
       "      <th></th>\n",
       "      <th>price</th>\n",
       "      <th>sqrt</th>\n",
       "      <th>bhk</th>\n",
       "      <th>New/Resale</th>\n",
       "      <th>Gymnasium</th>\n",
       "      <th>Lift Available</th>\n",
       "      <th>CarParking</th>\n",
       "      <th>Maintenance Staff</th>\n",
       "      <th>24x7 Security</th>\n",
       "      <th>Children's Play Area</th>\n",
       "      <th>Clubhouse</th>\n",
       "      <th>Intercom</th>\n",
       "      <th>Landscaped Gardens</th>\n",
       "      <th>Indoor Games</th>\n",
       "      <th>Gas Connection</th>\n",
       "      <th>Jogging Track</th>\n",
       "      <th>Swimming Pool</th>\n",
       "    </tr>\n",
       "  </thead>\n",
       "  <tbody>\n",
       "    <tr>\n",
       "      <th>count</th>\n",
       "      <td>6.293000e+03</td>\n",
       "      <td>6293.000000</td>\n",
       "      <td>6293.000000</td>\n",
       "      <td>6293.000000</td>\n",
       "      <td>6293.000000</td>\n",
       "      <td>6293.000000</td>\n",
       "      <td>6293.000000</td>\n",
       "      <td>6293.000000</td>\n",
       "      <td>6293.000000</td>\n",
       "      <td>6293.000000</td>\n",
       "      <td>6293.000000</td>\n",
       "      <td>6293.000000</td>\n",
       "      <td>6293.000000</td>\n",
       "      <td>6293.000000</td>\n",
       "      <td>6293.000000</td>\n",
       "      <td>6293.000000</td>\n",
       "      <td>6293.000000</td>\n",
       "    </tr>\n",
       "    <tr>\n",
       "      <th>mean</th>\n",
       "      <td>1.517239e+07</td>\n",
       "      <td>1003.513269</td>\n",
       "      <td>1.908470</td>\n",
       "      <td>0.344351</td>\n",
       "      <td>0.582711</td>\n",
       "      <td>0.804227</td>\n",
       "      <td>0.559987</td>\n",
       "      <td>0.276657</td>\n",
       "      <td>0.560782</td>\n",
       "      <td>0.563801</td>\n",
       "      <td>0.498649</td>\n",
       "      <td>0.488638</td>\n",
       "      <td>0.362307</td>\n",
       "      <td>0.221357</td>\n",
       "      <td>0.244875</td>\n",
       "      <td>0.384395</td>\n",
       "      <td>0.461465</td>\n",
       "    </tr>\n",
       "    <tr>\n",
       "      <th>std</th>\n",
       "      <td>2.021639e+07</td>\n",
       "      <td>556.253422</td>\n",
       "      <td>0.860158</td>\n",
       "      <td>0.475194</td>\n",
       "      <td>0.493151</td>\n",
       "      <td>0.396826</td>\n",
       "      <td>0.496428</td>\n",
       "      <td>0.447381</td>\n",
       "      <td>0.496331</td>\n",
       "      <td>0.495952</td>\n",
       "      <td>0.500038</td>\n",
       "      <td>0.499911</td>\n",
       "      <td>0.480705</td>\n",
       "      <td>0.415193</td>\n",
       "      <td>0.430047</td>\n",
       "      <td>0.486491</td>\n",
       "      <td>0.498552</td>\n",
       "    </tr>\n",
       "    <tr>\n",
       "      <th>min</th>\n",
       "      <td>2.000000e+06</td>\n",
       "      <td>200.000000</td>\n",
       "      <td>1.000000</td>\n",
       "      <td>0.000000</td>\n",
       "      <td>0.000000</td>\n",
       "      <td>0.000000</td>\n",
       "      <td>0.000000</td>\n",
       "      <td>0.000000</td>\n",
       "      <td>0.000000</td>\n",
       "      <td>0.000000</td>\n",
       "      <td>0.000000</td>\n",
       "      <td>0.000000</td>\n",
       "      <td>0.000000</td>\n",
       "      <td>0.000000</td>\n",
       "      <td>0.000000</td>\n",
       "      <td>0.000000</td>\n",
       "      <td>0.000000</td>\n",
       "    </tr>\n",
       "    <tr>\n",
       "      <th>25%</th>\n",
       "      <td>5.300000e+06</td>\n",
       "      <td>650.000000</td>\n",
       "      <td>1.000000</td>\n",
       "      <td>0.000000</td>\n",
       "      <td>0.000000</td>\n",
       "      <td>1.000000</td>\n",
       "      <td>0.000000</td>\n",
       "      <td>0.000000</td>\n",
       "      <td>0.000000</td>\n",
       "      <td>0.000000</td>\n",
       "      <td>0.000000</td>\n",
       "      <td>0.000000</td>\n",
       "      <td>0.000000</td>\n",
       "      <td>0.000000</td>\n",
       "      <td>0.000000</td>\n",
       "      <td>0.000000</td>\n",
       "      <td>0.000000</td>\n",
       "    </tr>\n",
       "    <tr>\n",
       "      <th>50%</th>\n",
       "      <td>9.500000e+06</td>\n",
       "      <td>904.000000</td>\n",
       "      <td>2.000000</td>\n",
       "      <td>0.000000</td>\n",
       "      <td>1.000000</td>\n",
       "      <td>1.000000</td>\n",
       "      <td>1.000000</td>\n",
       "      <td>0.000000</td>\n",
       "      <td>1.000000</td>\n",
       "      <td>1.000000</td>\n",
       "      <td>0.000000</td>\n",
       "      <td>0.000000</td>\n",
       "      <td>0.000000</td>\n",
       "      <td>0.000000</td>\n",
       "      <td>0.000000</td>\n",
       "      <td>0.000000</td>\n",
       "      <td>0.000000</td>\n",
       "    </tr>\n",
       "    <tr>\n",
       "      <th>75%</th>\n",
       "      <td>1.750000e+07</td>\n",
       "      <td>1180.000000</td>\n",
       "      <td>2.000000</td>\n",
       "      <td>1.000000</td>\n",
       "      <td>1.000000</td>\n",
       "      <td>1.000000</td>\n",
       "      <td>1.000000</td>\n",
       "      <td>1.000000</td>\n",
       "      <td>1.000000</td>\n",
       "      <td>1.000000</td>\n",
       "      <td>1.000000</td>\n",
       "      <td>1.000000</td>\n",
       "      <td>1.000000</td>\n",
       "      <td>0.000000</td>\n",
       "      <td>0.000000</td>\n",
       "      <td>1.000000</td>\n",
       "      <td>1.000000</td>\n",
       "    </tr>\n",
       "    <tr>\n",
       "      <th>max</th>\n",
       "      <td>4.200000e+08</td>\n",
       "      <td>8511.000000</td>\n",
       "      <td>7.000000</td>\n",
       "      <td>1.000000</td>\n",
       "      <td>1.000000</td>\n",
       "      <td>1.000000</td>\n",
       "      <td>1.000000</td>\n",
       "      <td>1.000000</td>\n",
       "      <td>1.000000</td>\n",
       "      <td>1.000000</td>\n",
       "      <td>1.000000</td>\n",
       "      <td>1.000000</td>\n",
       "      <td>1.000000</td>\n",
       "      <td>1.000000</td>\n",
       "      <td>1.000000</td>\n",
       "      <td>1.000000</td>\n",
       "      <td>1.000000</td>\n",
       "    </tr>\n",
       "  </tbody>\n",
       "</table>\n",
       "</div>"
      ],
      "text/plain": [
       "              price         sqrt          bhk   New/Resale    Gymnasium  \\\n",
       "count  6.293000e+03  6293.000000  6293.000000  6293.000000  6293.000000   \n",
       "mean   1.517239e+07  1003.513269     1.908470     0.344351     0.582711   \n",
       "std    2.021639e+07   556.253422     0.860158     0.475194     0.493151   \n",
       "min    2.000000e+06   200.000000     1.000000     0.000000     0.000000   \n",
       "25%    5.300000e+06   650.000000     1.000000     0.000000     0.000000   \n",
       "50%    9.500000e+06   904.000000     2.000000     0.000000     1.000000   \n",
       "75%    1.750000e+07  1180.000000     2.000000     1.000000     1.000000   \n",
       "max    4.200000e+08  8511.000000     7.000000     1.000000     1.000000   \n",
       "\n",
       "       Lift Available   CarParking  Maintenance Staff  24x7 Security  \\\n",
       "count     6293.000000  6293.000000        6293.000000    6293.000000   \n",
       "mean         0.804227     0.559987           0.276657       0.560782   \n",
       "std          0.396826     0.496428           0.447381       0.496331   \n",
       "min          0.000000     0.000000           0.000000       0.000000   \n",
       "25%          1.000000     0.000000           0.000000       0.000000   \n",
       "50%          1.000000     1.000000           0.000000       1.000000   \n",
       "75%          1.000000     1.000000           1.000000       1.000000   \n",
       "max          1.000000     1.000000           1.000000       1.000000   \n",
       "\n",
       "       Children's Play Area    Clubhouse     Intercom  Landscaped Gardens  \\\n",
       "count           6293.000000  6293.000000  6293.000000         6293.000000   \n",
       "mean               0.563801     0.498649     0.488638            0.362307   \n",
       "std                0.495952     0.500038     0.499911            0.480705   \n",
       "min                0.000000     0.000000     0.000000            0.000000   \n",
       "25%                0.000000     0.000000     0.000000            0.000000   \n",
       "50%                1.000000     0.000000     0.000000            0.000000   \n",
       "75%                1.000000     1.000000     1.000000            1.000000   \n",
       "max                1.000000     1.000000     1.000000            1.000000   \n",
       "\n",
       "       Indoor Games  Gas Connection  Jogging Track  Swimming Pool  \n",
       "count   6293.000000     6293.000000    6293.000000    6293.000000  \n",
       "mean       0.221357        0.244875       0.384395       0.461465  \n",
       "std        0.415193        0.430047       0.486491       0.498552  \n",
       "min        0.000000        0.000000       0.000000       0.000000  \n",
       "25%        0.000000        0.000000       0.000000       0.000000  \n",
       "50%        0.000000        0.000000       0.000000       0.000000  \n",
       "75%        0.000000        0.000000       1.000000       1.000000  \n",
       "max        1.000000        1.000000       1.000000       1.000000  "
      ]
     },
     "execution_count": 7,
     "metadata": {},
     "output_type": "execute_result"
    }
   ],
   "source": [
    "#Statistical information of the data\n",
    "data.describe()"
   ]
  },
  {
   "cell_type": "code",
   "execution_count": 8,
   "metadata": {
    "colab": {
     "base_uri": "https://localhost:8080/"
    },
    "id": "GtMNQ416TNjF",
    "outputId": "8b7a0b01-db3a-44b2-bd4a-fcd9d933679e"
   },
   "outputs": [
    {
     "data": {
      "text/plain": [
       "0"
      ]
     },
     "execution_count": 8,
     "metadata": {},
     "output_type": "execute_result"
    }
   ],
   "source": [
    "#Removing Duplicates\n",
    "data = data.drop_duplicates()\n",
    "data.duplicated().sum()"
   ]
  },
  {
   "cell_type": "code",
   "execution_count": 9,
   "metadata": {
    "colab": {
     "base_uri": "https://localhost:8080/"
    },
    "id": "Knpvf2AfzyKV",
    "outputId": "dd199dbd-f0b8-43db-c597-3930f6607bf5"
   },
   "outputs": [
    {
     "data": {
      "text/plain": [
       "price                   0\n",
       "sqrt                    0\n",
       "location                0\n",
       "bhk                     0\n",
       "New/Resale              0\n",
       "Gymnasium               0\n",
       "Lift Available          0\n",
       "CarParking              0\n",
       "Maintenance Staff       0\n",
       "24x7 Security           0\n",
       "Children's Play Area    0\n",
       "Clubhouse               0\n",
       "Intercom                0\n",
       "Landscaped Gardens      0\n",
       "Indoor Games            0\n",
       "Gas Connection          0\n",
       "Jogging Track           0\n",
       "Swimming Pool           0\n",
       "dtype: int64"
      ]
     },
     "execution_count": 9,
     "metadata": {},
     "output_type": "execute_result"
    }
   ],
   "source": [
    "#Calculating the total Null Values in the data\n",
    "data.isnull().sum()"
   ]
  },
  {
   "cell_type": "code",
   "execution_count": 10,
   "metadata": {
    "id": "frDd-dA0z2mm"
   },
   "outputs": [],
   "source": [
    "#Dropping rows having atleast one NULL value and storing data in new variable 'data_Clean'\n",
    "data_clean = data.dropna()\n"
   ]
  },
  {
   "cell_type": "code",
   "execution_count": 11,
   "metadata": {
    "colab": {
     "base_uri": "https://localhost:8080/"
    },
    "id": "NWu2wBcLz9xN",
    "outputId": "baa355c1-325c-482b-f576-f49b4e9e8549"
   },
   "outputs": [
    {
     "data": {
      "text/plain": [
       "price                   0\n",
       "sqrt                    0\n",
       "location                0\n",
       "bhk                     0\n",
       "New/Resale              0\n",
       "Gymnasium               0\n",
       "Lift Available          0\n",
       "CarParking              0\n",
       "Maintenance Staff       0\n",
       "24x7 Security           0\n",
       "Children's Play Area    0\n",
       "Clubhouse               0\n",
       "Intercom                0\n",
       "Landscaped Gardens      0\n",
       "Indoor Games            0\n",
       "Gas Connection          0\n",
       "Jogging Track           0\n",
       "Swimming Pool           0\n",
       "dtype: int64"
      ]
     },
     "execution_count": 11,
     "metadata": {},
     "output_type": "execute_result"
    }
   ],
   "source": [
    "#Result after using dropna\n",
    "data_clean.isnull().sum()"
   ]
  },
  {
   "cell_type": "code",
   "execution_count": 12,
   "metadata": {
    "colab": {
     "base_uri": "https://localhost:8080/"
    },
    "id": "N2sRc3_l0BUb",
    "outputId": "259e02b8-7357-4c1f-a905-7a5bbd20141c"
   },
   "outputs": [
    {
     "data": {
      "text/plain": [
       "(6291, 18)"
      ]
     },
     "execution_count": 12,
     "metadata": {},
     "output_type": "execute_result"
    }
   ],
   "source": [
    "#New number of rows updated after dropping NULL values\n",
    "data_clean.shape"
   ]
  },
  {
   "cell_type": "code",
   "execution_count": 13,
   "metadata": {
    "colab": {
     "base_uri": "https://localhost:8080/"
    },
    "id": "R67xOUSK0GKs",
    "outputId": "4190d80b-0697-41c5-e260-0429940ffb50"
   },
   "outputs": [
    {
     "name": "stdout",
     "output_type": "stream",
     "text": [
      "<class 'pandas.core.frame.DataFrame'>\n",
      "Index: 6291 entries, 0 to 6292\n",
      "Data columns (total 18 columns):\n",
      " #   Column                Non-Null Count  Dtype \n",
      "---  ------                --------------  ----- \n",
      " 0   price                 6291 non-null   int64 \n",
      " 1   sqrt                  6291 non-null   int64 \n",
      " 2   location              6291 non-null   object\n",
      " 3   bhk                   6291 non-null   int64 \n",
      " 4   New/Resale            6291 non-null   int64 \n",
      " 5   Gymnasium             6291 non-null   int64 \n",
      " 6   Lift Available        6291 non-null   int64 \n",
      " 7   CarParking            6291 non-null   int64 \n",
      " 8   Maintenance Staff     6291 non-null   int64 \n",
      " 9   24x7 Security         6291 non-null   int64 \n",
      " 10  Children's Play Area  6291 non-null   int64 \n",
      " 11  Clubhouse             6291 non-null   int64 \n",
      " 12  Intercom              6291 non-null   int64 \n",
      " 13  Landscaped Gardens    6291 non-null   int64 \n",
      " 14  Indoor Games          6291 non-null   int64 \n",
      " 15  Gas Connection        6291 non-null   int64 \n",
      " 16  Jogging Track         6291 non-null   int64 \n",
      " 17  Swimming Pool         6291 non-null   int64 \n",
      "dtypes: int64(17), object(1)\n",
      "memory usage: 933.8+ KB\n"
     ]
    }
   ],
   "source": [
    "#Info of data_clean\n",
    "data_clean.info()"
   ]
  },
  {
   "cell_type": "code",
   "execution_count": 14,
   "metadata": {
    "colab": {
     "base_uri": "https://localhost:8080/",
     "height": 337
    },
    "id": "6_iHrW9o0KRy",
    "outputId": "3cb2d87c-496b-4767-c840-b42a4b0504c5"
   },
   "outputs": [
    {
     "data": {
      "text/html": [
       "<div>\n",
       "<style scoped>\n",
       "    .dataframe tbody tr th:only-of-type {\n",
       "        vertical-align: middle;\n",
       "    }\n",
       "\n",
       "    .dataframe tbody tr th {\n",
       "        vertical-align: top;\n",
       "    }\n",
       "\n",
       "    .dataframe thead th {\n",
       "        text-align: right;\n",
       "    }\n",
       "</style>\n",
       "<table border=\"1\" class=\"dataframe\">\n",
       "  <thead>\n",
       "    <tr style=\"text-align: right;\">\n",
       "      <th></th>\n",
       "      <th>price</th>\n",
       "      <th>sqrt</th>\n",
       "      <th>bhk</th>\n",
       "      <th>New/Resale</th>\n",
       "      <th>Gymnasium</th>\n",
       "      <th>Lift Available</th>\n",
       "      <th>CarParking</th>\n",
       "      <th>Maintenance Staff</th>\n",
       "      <th>24x7 Security</th>\n",
       "      <th>Children's Play Area</th>\n",
       "      <th>Clubhouse</th>\n",
       "      <th>Intercom</th>\n",
       "      <th>Landscaped Gardens</th>\n",
       "      <th>Indoor Games</th>\n",
       "      <th>Gas Connection</th>\n",
       "      <th>Jogging Track</th>\n",
       "      <th>Swimming Pool</th>\n",
       "    </tr>\n",
       "  </thead>\n",
       "  <tbody>\n",
       "    <tr>\n",
       "      <th>count</th>\n",
       "      <td>6.291000e+03</td>\n",
       "      <td>6291.000000</td>\n",
       "      <td>6291.000000</td>\n",
       "      <td>6291.000000</td>\n",
       "      <td>6291.000000</td>\n",
       "      <td>6291.000000</td>\n",
       "      <td>6291.000000</td>\n",
       "      <td>6291.000000</td>\n",
       "      <td>6291.000000</td>\n",
       "      <td>6291.000000</td>\n",
       "      <td>6291.000000</td>\n",
       "      <td>6291.000000</td>\n",
       "      <td>6291.000000</td>\n",
       "      <td>6291.000000</td>\n",
       "      <td>6291.000000</td>\n",
       "      <td>6291.000000</td>\n",
       "      <td>6291.000000</td>\n",
       "    </tr>\n",
       "    <tr>\n",
       "      <th>mean</th>\n",
       "      <td>1.517470e+07</td>\n",
       "      <td>1003.611667</td>\n",
       "      <td>1.908600</td>\n",
       "      <td>0.344301</td>\n",
       "      <td>0.582896</td>\n",
       "      <td>0.804324</td>\n",
       "      <td>0.560006</td>\n",
       "      <td>0.276586</td>\n",
       "      <td>0.560801</td>\n",
       "      <td>0.563821</td>\n",
       "      <td>0.498808</td>\n",
       "      <td>0.488794</td>\n",
       "      <td>0.362423</td>\n",
       "      <td>0.221427</td>\n",
       "      <td>0.244953</td>\n",
       "      <td>0.384518</td>\n",
       "      <td>0.461612</td>\n",
       "    </tr>\n",
       "    <tr>\n",
       "      <th>std</th>\n",
       "      <td>2.021897e+07</td>\n",
       "      <td>556.312899</td>\n",
       "      <td>0.860218</td>\n",
       "      <td>0.475178</td>\n",
       "      <td>0.493120</td>\n",
       "      <td>0.396752</td>\n",
       "      <td>0.496426</td>\n",
       "      <td>0.447345</td>\n",
       "      <td>0.496329</td>\n",
       "      <td>0.495950</td>\n",
       "      <td>0.500038</td>\n",
       "      <td>0.499914</td>\n",
       "      <td>0.480738</td>\n",
       "      <td>0.415241</td>\n",
       "      <td>0.430094</td>\n",
       "      <td>0.486520</td>\n",
       "      <td>0.498564</td>\n",
       "    </tr>\n",
       "    <tr>\n",
       "      <th>min</th>\n",
       "      <td>2.000000e+06</td>\n",
       "      <td>200.000000</td>\n",
       "      <td>1.000000</td>\n",
       "      <td>0.000000</td>\n",
       "      <td>0.000000</td>\n",
       "      <td>0.000000</td>\n",
       "      <td>0.000000</td>\n",
       "      <td>0.000000</td>\n",
       "      <td>0.000000</td>\n",
       "      <td>0.000000</td>\n",
       "      <td>0.000000</td>\n",
       "      <td>0.000000</td>\n",
       "      <td>0.000000</td>\n",
       "      <td>0.000000</td>\n",
       "      <td>0.000000</td>\n",
       "      <td>0.000000</td>\n",
       "      <td>0.000000</td>\n",
       "    </tr>\n",
       "    <tr>\n",
       "      <th>25%</th>\n",
       "      <td>5.300000e+06</td>\n",
       "      <td>650.000000</td>\n",
       "      <td>1.000000</td>\n",
       "      <td>0.000000</td>\n",
       "      <td>0.000000</td>\n",
       "      <td>1.000000</td>\n",
       "      <td>0.000000</td>\n",
       "      <td>0.000000</td>\n",
       "      <td>0.000000</td>\n",
       "      <td>0.000000</td>\n",
       "      <td>0.000000</td>\n",
       "      <td>0.000000</td>\n",
       "      <td>0.000000</td>\n",
       "      <td>0.000000</td>\n",
       "      <td>0.000000</td>\n",
       "      <td>0.000000</td>\n",
       "      <td>0.000000</td>\n",
       "    </tr>\n",
       "    <tr>\n",
       "      <th>50%</th>\n",
       "      <td>9.500000e+06</td>\n",
       "      <td>905.000000</td>\n",
       "      <td>2.000000</td>\n",
       "      <td>0.000000</td>\n",
       "      <td>1.000000</td>\n",
       "      <td>1.000000</td>\n",
       "      <td>1.000000</td>\n",
       "      <td>0.000000</td>\n",
       "      <td>1.000000</td>\n",
       "      <td>1.000000</td>\n",
       "      <td>0.000000</td>\n",
       "      <td>0.000000</td>\n",
       "      <td>0.000000</td>\n",
       "      <td>0.000000</td>\n",
       "      <td>0.000000</td>\n",
       "      <td>0.000000</td>\n",
       "      <td>0.000000</td>\n",
       "    </tr>\n",
       "    <tr>\n",
       "      <th>75%</th>\n",
       "      <td>1.750000e+07</td>\n",
       "      <td>1180.000000</td>\n",
       "      <td>2.000000</td>\n",
       "      <td>1.000000</td>\n",
       "      <td>1.000000</td>\n",
       "      <td>1.000000</td>\n",
       "      <td>1.000000</td>\n",
       "      <td>1.000000</td>\n",
       "      <td>1.000000</td>\n",
       "      <td>1.000000</td>\n",
       "      <td>1.000000</td>\n",
       "      <td>1.000000</td>\n",
       "      <td>1.000000</td>\n",
       "      <td>0.000000</td>\n",
       "      <td>0.000000</td>\n",
       "      <td>1.000000</td>\n",
       "      <td>1.000000</td>\n",
       "    </tr>\n",
       "    <tr>\n",
       "      <th>max</th>\n",
       "      <td>4.200000e+08</td>\n",
       "      <td>8511.000000</td>\n",
       "      <td>7.000000</td>\n",
       "      <td>1.000000</td>\n",
       "      <td>1.000000</td>\n",
       "      <td>1.000000</td>\n",
       "      <td>1.000000</td>\n",
       "      <td>1.000000</td>\n",
       "      <td>1.000000</td>\n",
       "      <td>1.000000</td>\n",
       "      <td>1.000000</td>\n",
       "      <td>1.000000</td>\n",
       "      <td>1.000000</td>\n",
       "      <td>1.000000</td>\n",
       "      <td>1.000000</td>\n",
       "      <td>1.000000</td>\n",
       "      <td>1.000000</td>\n",
       "    </tr>\n",
       "  </tbody>\n",
       "</table>\n",
       "</div>"
      ],
      "text/plain": [
       "              price         sqrt          bhk   New/Resale    Gymnasium  \\\n",
       "count  6.291000e+03  6291.000000  6291.000000  6291.000000  6291.000000   \n",
       "mean   1.517470e+07  1003.611667     1.908600     0.344301     0.582896   \n",
       "std    2.021897e+07   556.312899     0.860218     0.475178     0.493120   \n",
       "min    2.000000e+06   200.000000     1.000000     0.000000     0.000000   \n",
       "25%    5.300000e+06   650.000000     1.000000     0.000000     0.000000   \n",
       "50%    9.500000e+06   905.000000     2.000000     0.000000     1.000000   \n",
       "75%    1.750000e+07  1180.000000     2.000000     1.000000     1.000000   \n",
       "max    4.200000e+08  8511.000000     7.000000     1.000000     1.000000   \n",
       "\n",
       "       Lift Available   CarParking  Maintenance Staff  24x7 Security  \\\n",
       "count     6291.000000  6291.000000        6291.000000    6291.000000   \n",
       "mean         0.804324     0.560006           0.276586       0.560801   \n",
       "std          0.396752     0.496426           0.447345       0.496329   \n",
       "min          0.000000     0.000000           0.000000       0.000000   \n",
       "25%          1.000000     0.000000           0.000000       0.000000   \n",
       "50%          1.000000     1.000000           0.000000       1.000000   \n",
       "75%          1.000000     1.000000           1.000000       1.000000   \n",
       "max          1.000000     1.000000           1.000000       1.000000   \n",
       "\n",
       "       Children's Play Area    Clubhouse     Intercom  Landscaped Gardens  \\\n",
       "count           6291.000000  6291.000000  6291.000000         6291.000000   \n",
       "mean               0.563821     0.498808     0.488794            0.362423   \n",
       "std                0.495950     0.500038     0.499914            0.480738   \n",
       "min                0.000000     0.000000     0.000000            0.000000   \n",
       "25%                0.000000     0.000000     0.000000            0.000000   \n",
       "50%                1.000000     0.000000     0.000000            0.000000   \n",
       "75%                1.000000     1.000000     1.000000            1.000000   \n",
       "max                1.000000     1.000000     1.000000            1.000000   \n",
       "\n",
       "       Indoor Games  Gas Connection  Jogging Track  Swimming Pool  \n",
       "count   6291.000000     6291.000000    6291.000000    6291.000000  \n",
       "mean       0.221427        0.244953       0.384518       0.461612  \n",
       "std        0.415241        0.430094       0.486520       0.498564  \n",
       "min        0.000000        0.000000       0.000000       0.000000  \n",
       "25%        0.000000        0.000000       0.000000       0.000000  \n",
       "50%        0.000000        0.000000       0.000000       0.000000  \n",
       "75%        0.000000        0.000000       1.000000       1.000000  \n",
       "max        1.000000        1.000000       1.000000       1.000000  "
      ]
     },
     "execution_count": 14,
     "metadata": {},
     "output_type": "execute_result"
    }
   ],
   "source": [
    "#statistical information of the new cleaned data\n",
    "data_clean.describe()"
   ]
  },
  {
   "cell_type": "code",
   "execution_count": 15,
   "metadata": {
    "colab": {
     "base_uri": "https://localhost:8080/",
     "height": 223
    },
    "id": "BQ4S7LnM0PuJ",
    "outputId": "25a7b498-97bd-416f-a5ff-db175551ead6"
   },
   "outputs": [
    {
     "data": {
      "text/html": [
       "<div>\n",
       "<style scoped>\n",
       "    .dataframe tbody tr th:only-of-type {\n",
       "        vertical-align: middle;\n",
       "    }\n",
       "\n",
       "    .dataframe tbody tr th {\n",
       "        vertical-align: top;\n",
       "    }\n",
       "\n",
       "    .dataframe thead th {\n",
       "        text-align: right;\n",
       "    }\n",
       "</style>\n",
       "<table border=\"1\" class=\"dataframe\">\n",
       "  <thead>\n",
       "    <tr style=\"text-align: right;\">\n",
       "      <th></th>\n",
       "      <th>price</th>\n",
       "      <th>sqrt</th>\n",
       "      <th>location</th>\n",
       "      <th>bhk</th>\n",
       "      <th>New/Resale</th>\n",
       "      <th>Gymnasium</th>\n",
       "      <th>Lift Available</th>\n",
       "      <th>CarParking</th>\n",
       "      <th>Maintenance Staff</th>\n",
       "      <th>24x7 Security</th>\n",
       "      <th>Children's Play Area</th>\n",
       "      <th>Clubhouse</th>\n",
       "      <th>Intercom</th>\n",
       "      <th>Landscaped Gardens</th>\n",
       "      <th>Indoor Games</th>\n",
       "      <th>Gas Connection</th>\n",
       "      <th>Jogging Track</th>\n",
       "      <th>Swimming Pool</th>\n",
       "    </tr>\n",
       "  </thead>\n",
       "  <tbody>\n",
       "    <tr>\n",
       "      <th>0</th>\n",
       "      <td>4850000</td>\n",
       "      <td>720</td>\n",
       "      <td>Kharghar</td>\n",
       "      <td>1</td>\n",
       "      <td>0</td>\n",
       "      <td>0</td>\n",
       "      <td>1</td>\n",
       "      <td>1</td>\n",
       "      <td>1</td>\n",
       "      <td>1</td>\n",
       "      <td>0</td>\n",
       "      <td>0</td>\n",
       "      <td>0</td>\n",
       "      <td>0</td>\n",
       "      <td>0</td>\n",
       "      <td>0</td>\n",
       "      <td>0</td>\n",
       "      <td>0</td>\n",
       "    </tr>\n",
       "    <tr>\n",
       "      <th>1</th>\n",
       "      <td>4500000</td>\n",
       "      <td>600</td>\n",
       "      <td>Kharghar</td>\n",
       "      <td>1</td>\n",
       "      <td>0</td>\n",
       "      <td>1</td>\n",
       "      <td>1</td>\n",
       "      <td>1</td>\n",
       "      <td>1</td>\n",
       "      <td>1</td>\n",
       "      <td>0</td>\n",
       "      <td>1</td>\n",
       "      <td>0</td>\n",
       "      <td>0</td>\n",
       "      <td>0</td>\n",
       "      <td>0</td>\n",
       "      <td>1</td>\n",
       "      <td>1</td>\n",
       "    </tr>\n",
       "    <tr>\n",
       "      <th>2</th>\n",
       "      <td>6700000</td>\n",
       "      <td>650</td>\n",
       "      <td>Kharghar</td>\n",
       "      <td>1</td>\n",
       "      <td>0</td>\n",
       "      <td>1</td>\n",
       "      <td>1</td>\n",
       "      <td>1</td>\n",
       "      <td>1</td>\n",
       "      <td>1</td>\n",
       "      <td>1</td>\n",
       "      <td>1</td>\n",
       "      <td>1</td>\n",
       "      <td>0</td>\n",
       "      <td>0</td>\n",
       "      <td>0</td>\n",
       "      <td>1</td>\n",
       "      <td>1</td>\n",
       "    </tr>\n",
       "    <tr>\n",
       "      <th>3</th>\n",
       "      <td>4500000</td>\n",
       "      <td>650</td>\n",
       "      <td>Kharghar</td>\n",
       "      <td>1</td>\n",
       "      <td>0</td>\n",
       "      <td>0</td>\n",
       "      <td>1</td>\n",
       "      <td>1</td>\n",
       "      <td>1</td>\n",
       "      <td>1</td>\n",
       "      <td>0</td>\n",
       "      <td>0</td>\n",
       "      <td>1</td>\n",
       "      <td>1</td>\n",
       "      <td>0</td>\n",
       "      <td>0</td>\n",
       "      <td>0</td>\n",
       "      <td>0</td>\n",
       "    </tr>\n",
       "    <tr>\n",
       "      <th>4</th>\n",
       "      <td>5000000</td>\n",
       "      <td>665</td>\n",
       "      <td>Kharghar</td>\n",
       "      <td>1</td>\n",
       "      <td>0</td>\n",
       "      <td>0</td>\n",
       "      <td>1</td>\n",
       "      <td>1</td>\n",
       "      <td>1</td>\n",
       "      <td>1</td>\n",
       "      <td>0</td>\n",
       "      <td>0</td>\n",
       "      <td>1</td>\n",
       "      <td>1</td>\n",
       "      <td>0</td>\n",
       "      <td>0</td>\n",
       "      <td>0</td>\n",
       "      <td>0</td>\n",
       "    </tr>\n",
       "  </tbody>\n",
       "</table>\n",
       "</div>"
      ],
      "text/plain": [
       "     price  sqrt  location  bhk  New/Resale  Gymnasium  Lift Available  \\\n",
       "0  4850000   720  Kharghar    1           0          0               1   \n",
       "1  4500000   600  Kharghar    1           0          1               1   \n",
       "2  6700000   650  Kharghar    1           0          1               1   \n",
       "3  4500000   650  Kharghar    1           0          0               1   \n",
       "4  5000000   665  Kharghar    1           0          0               1   \n",
       "\n",
       "   CarParking  Maintenance Staff  24x7 Security  Children's Play Area  \\\n",
       "0           1                  1              1                     0   \n",
       "1           1                  1              1                     0   \n",
       "2           1                  1              1                     1   \n",
       "3           1                  1              1                     0   \n",
       "4           1                  1              1                     0   \n",
       "\n",
       "   Clubhouse  Intercom  Landscaped Gardens  Indoor Games  Gas Connection  \\\n",
       "0          0         0                   0             0               0   \n",
       "1          1         0                   0             0               0   \n",
       "2          1         1                   0             0               0   \n",
       "3          0         1                   1             0               0   \n",
       "4          0         1                   1             0               0   \n",
       "\n",
       "   Jogging Track  Swimming Pool  \n",
       "0              0              0  \n",
       "1              1              1  \n",
       "2              1              1  \n",
       "3              0              0  \n",
       "4              0              0  "
      ]
     },
     "execution_count": 15,
     "metadata": {},
     "output_type": "execute_result"
    }
   ],
   "source": [
    "data_clean.head()"
   ]
  },
  {
   "cell_type": "code",
   "execution_count": 16,
   "metadata": {
    "colab": {
     "base_uri": "https://localhost:8080/"
    },
    "id": "B8qToSPL0uqu",
    "outputId": "40944598-c4cf-4ad3-ddb2-c816b58ca258"
   },
   "outputs": [
    {
     "data": {
      "text/plain": [
       "array(['Kharghar', 'Sector 13 Kharghar', 'Sector 18 Kharghar',\n",
       "       'Sector 20 Kharghar', 'Sector 15 Kharghar', 'Dombivali',\n",
       "       'Churchgate', 'Prabhadevi', 'Jogeshwari West', 'Kalyan East',\n",
       "       'Malad East', 'Virar', 'Malad West', 'Borivali East',\n",
       "       'Diamond Market Road', 'Goregaon West', 'Kandivali West',\n",
       "       'Borivali West', 'Kandivali East', 'Andheri East', 'Goregaon East',\n",
       "       'Wadala', 'Ulwe', 'Dahisar', 'kandivali', 'Goregaon',\n",
       "       'Bhandup West', 'Thakur Village kandivali East', 'Santacruz West',\n",
       "       'Kanjurmarg', 'I C Colony', 'Dahisar W', 'Marol', 'Parel',\n",
       "       'Lower Parel', 'Worli', 'Jogeshwari East', 'Chembur Shell Colony',\n",
       "       'Central Avenue', 'Chembur East', 'DN Nagar Road', 'Mulund',\n",
       "       'Nalasopara', 'raheja vihar', 'Powai Lake', 'Tolaram Colony',\n",
       "       'Taloja', 'Thane West', 'Vangani', 'Sector 5 Ulwe',\n",
       "       'Sector 12 New Panvel', 'Sector 17 Ulwe', 'Sector 9 Kamothe',\n",
       "       'Sector 19 Kharghar', 'Navi Basti', 'Sector 12 Kamothe',\n",
       "       'Sector 21 Kamothe', 'Rutu Enclave', 'taloja panchanand',\n",
       "       'Chembur', 'Sector 20 Kamothe', 'Sector 22 Kamothe',\n",
       "       'Sector 18 Kamothe', 'Sector 5 Kamothe', 'Sector 6A Kamothe',\n",
       "       'Sector 11 Kamothe', 'Sector 18 Ulwe', 'azad nagar',\n",
       "       'Sindhi Society Chembur', 'Kurla', 'Sahkar Nagar', 'Deonar',\n",
       "       'Thane', 'Jankalyan Nagar', 'Badlapur', 'Ambarnath',\n",
       "       'Ambernath West', 'Vakola', 'Kamothe', 'Sector 17 Kamothe',\n",
       "       'Almeida Park', 'Khar', 'Bandra West', 'Pali Hill', 'Palghar',\n",
       "       'Sector 21 Kharghar', 'Sector 12 Kharghar', 'Vivek Vidyalaya Marg',\n",
       "       'Vasai', 'Nahur', 'Badlapur West', 'Panvel', 'Kalyan',\n",
       "       'Badlapur East', 'Mira Bhayandar', 'Juhu', 'Naigaon East',\n",
       "       'Ghodbunder Road', 'Sector 21 Ulwe', 'Bandra East', 'Dronagiri',\n",
       "       'Nerul', 'Karanjade', 'Sanpada', 'Sector 8 Ulwe', 'Sector 3 Ulwe',\n",
       "       'Sector 23 Ulwe', 'Sector 19 Ulwe', 'Grant Road West', 'Bhiwandi',\n",
       "       'Dadar East', 'Ghatkopar', 'Breach Candy', 'Asangaon',\n",
       "       'Gulmohar Road', 'Kolshet Road', 'Sector 19A Kopar Khairane',\n",
       "       'Koper Khairane', 'Vikhroli', 'Magathane', 'Rawal Pada',\n",
       "       'Ambernath East', 'Dokali Pada', 'Dattapada', 'Rajendra Nagar',\n",
       "       'Kulupwadi', 'West Amardeep Colony', 'Pant Nagar',\n",
       "       'Kondivita Road', 'Koparkhairane Station Road', 'Four Bungalows',\n",
       "       'kolshet', 'Hiranandani Meadows', 'Petali', 'Sector 34C Kharghar ',\n",
       "       'Ghatkopar East', 'Kalyan West', 'Shirgaon', 'Mahatma Gandhi Road',\n",
       "       'Manvel pada Road', 'MG Road', 'juhu tara', 'Mira Road',\n",
       "       'Palm Beach', 'Sector 19 Kamothe', 'Tilak Nagar', 'Ghatkopar West',\n",
       "       'Tardeo', 'Mahalaxmi', 'Dahisar West', 'Mulund West',\n",
       "       'Natakwala Lane', 'Devidas Cross Lane', 'Mira Road and Beyond',\n",
       "       'Haridas Nagar', 'Shimpoli', 'Shimpoli ', 'Rustomjee Global City',\n",
       "       'Sunil Nagar', 'Sector 30 Kharghar', 'Sector 13 Khanda Colony',\n",
       "       'Sector 16 Airoli', 'Ranjanpada', 'Sector 35I Kharghar',\n",
       "       'Sector 35D Kharghar', 'Sector 34 A Kharghar',\n",
       "       'Sector 36 Kharghar', 'Sector 11 Belapur', 'Sector 34B Kharghar',\n",
       "       'Dombivali East', 'Sector 50 Seawoods', 'Sector 7 Kharghar',\n",
       "       'Lokhandwala Township', 'Andheri', 'Andheri West', 'Shastri Nagar',\n",
       "       'Wadala ', 'Kalwa', 'PARSIK NAGAR', 'Maharashtra Nagar',\n",
       "       'Patlipada', 'Belapur', 'Seawoods', 'Majiwada', '4 Bunglows',\n",
       "       'Airoli', 'Sector 10 Khanda Colony', 'Kharegaon', 'Panch Pakhadi',\n",
       "       'Sector 36 Kamothe', 'Dombivli West', 'Godrej Hill',\n",
       "       'Ganesh Nagar', 'Haware City', 'Akurli Nagar', 'Kasar vadavali',\n",
       "       'Vasai West', 'Katrap', 'Kasheli', 'Vasind', 'KASHELI',\n",
       "       'Shakti Nagar', 'Bhayandar East', 'Dahisar East', 'Mira Road East',\n",
       "       'Ulhasnagar', 'Koproli', 'Mumbai Central', 'Greater Khanda',\n",
       "       'Manpada', 'Sector 2 Ulwe', 'Govind nagar',\n",
       "       'Krishanlal Marwah Marg', 'Sector 9 Ulwe', 'Kalamboli',\n",
       "       'Lokhandwala', 'Patel Nagar', 'Khar West', 'Sector 11 Kharghar',\n",
       "       'Ghansoli', 'Sector 8 Sanpada', 'Jeejamata Nagar', 'Pandurangwadi',\n",
       "       'Shreyas Colony', 'Kannamwar Nagar II', 'gokuldham',\n",
       "       'Bangur Nagar', 'Shivaji Colony', 'Jawahar Nagar',\n",
       "       'Vedant Complex', 'Titwala', 'Govandi', 'Vasant Vihar',\n",
       "       'Samata nagar', 'Wadi Bandar', 'Kapurbawadi', 'Ramdev Park',\n",
       "       'Sector 35 Kamothe', 'Sector 58A Seawoods ', 'Diva Gaon',\n",
       "       'Borivali', 'Gundavali Gaothan', 'Koldongri', 'Saki Naka',\n",
       "       'Bhayandar West', 'Versova', 'Hanuman Nagar', 'Worli ',\n",
       "       'Shiv Sagar Estate', 'Sriprastha', 'Morya Nagar', 'Powai',\n",
       "       'Agripada', 'Sion', 'Girgaon', 'IT Colony', 'Bhayandarpada',\n",
       "       'Sector 16 Kamothe', 'Sector 24 Kamothe', 'Sector35D Kharghar',\n",
       "       'Malad', 'Haji Ali', 'Majiwada thane', 'Yogi Hills',\n",
       "       'Sector 19 Nerul', 'Owale', 'Taloja ', 'Rasayani',\n",
       "       'Sector 10 Kamothe', 'kavesar', 'Kopara',\n",
       "       'royal palms goregaon east', 'Dadar West', 'vrindavan society',\n",
       "       'CBD Belapur East', 'Parel Village', 'Karave Nagar',\n",
       "       'Sector 19A Nerul', 'Antop Hill', 'Suman Nagar', 'Bhakti Park',\n",
       "       'Hanuman Chowk', 'Willingdon', 'VishnuNagar', 'Vichumbe', 'Vashi',\n",
       "       'Poonam Sagar Complex', 'Santacruz East', 'Mulund East',\n",
       "       'Sector 9 Ghansoli', 'Balkum', 'Hiranandani Estates',\n",
       "       'Vartak Nagar', 'Charkop', 'dhanukarwadi', 'Vazira',\n",
       "       'Boriwali West', 'Four Bunglows', 'Palava', 'Seven Bunglow',\n",
       "       'Vile Parle East', 'Sainath Nagar', 'Kapur Bawdi',\n",
       "       'Tiku ji ni wadi', 'Kolshet Industrial Area', 'Sector 16 Ulwe',\n",
       "       'Anand Nagar Thane West', 'Marine Lines', 'Bandra Kurla Complex',\n",
       "       'Neral', 'Shil Phata', 'Secto 8 Ulwe', 'matunga east', 'Dharavi',\n",
       "       'Vile Parle West', 'Anjurdive', 'Uran', 'Boisar',\n",
       "       'Kanjurmarg East', 'Kurla West', 'Sewri', 'Matunga',\n",
       "       'Malabar Hill', 'Ambivali', 'Vijay Nagar', 'Chedda Nagar',\n",
       "       'Kurla East', 'Kharodi', 'Wadala East', 'Palidevad',\n",
       "       'Vikroli East', 'Mahim', 'Khalapur', 'Karjat', 'Vitthalwadi',\n",
       "       'Bhoiwada Kalyan', 'Beturkar Pada', 'Ambivli', 'Nilje Gaon',\n",
       "       'Khopoli', 'Gulal Wadi', 'Chandivali', 'Nere', 'Kewale',\n",
       "       'Sector 9 Airoli', 'Sen Nagar', 'Adaigaon', 'Gandhar Nagar',\n",
       "       'Byculla', 'Napeansea Road', 'Oshiwara Police Station Road',\n",
       "       'Padle Gaon', 'Peddar Road', 'Poddar Road', 'Pokhran Road',\n",
       "       'Roadpali', 'roadpali navimumbai', 'Shilphata Road Thane',\n",
       "       'Soniwadi Road', 'Thane Belapur Road Kalwa', 'TPS Road',\n",
       "       'Vakola Pipeline Road', 'Yari Road'], dtype=object)"
      ]
     },
     "execution_count": 16,
     "metadata": {},
     "output_type": "execute_result"
    }
   ],
   "source": [
    "#Calculating the unique values of a column 'city' which has data in string\n",
    "data_clean['location'].unique()"
   ]
  },
  {
   "cell_type": "code",
   "execution_count": 17,
   "metadata": {
    "id": "UwR2Ernd0yRp"
   },
   "outputs": [],
   "source": [
    "#Converting the string unique values of column 'city' to numerical data as the machine understands only numerical values\n",
    "data_clean['location']=data_clean['location'].astype(str).map({'Kharghar':1, 'Sector 13 Kharghar':2, 'Sector 18 Kharghar':3,\n",
    "       'Sector 20 Kharghar':359, 'Sector 15 Kharghar':4, 'Dombivali':5,\n",
    "       'Churchgate':6, 'Prabhadevi':7, 'Jogeshwari West':8, 'Kalyan East':9,\n",
    "       'Malad East':10, 'Virar':11, 'Malad West':12, 'Borivali East':13,\n",
    "       'Diamond Market Road':14, 'Goregaon West':15, 'Kandivali West':16,\n",
    "       'Borivali West':17, 'Kandivali East':18, 'Andheri East':19, 'Goregaon East':20,\n",
    "       'Wadala':21, 'Ulwe':22, 'Dahisar':23, 'kandivali':24, 'Goregaon':25,\n",
    "       'Bhandup West':26, 'Thakur Village kandivali East':27, 'Santacruz West':28,\n",
    "       'Kanjurmarg':29, 'I C Colony':30, 'Dahisar W':31, 'Marol':32, 'Parel':33,\n",
    "       'Lower Parel':34, 'Worli':35, 'Jogeshwari East':36, 'Chembur Shell Colony':37,\n",
    "       'Central Avenue':38, 'Chembur East':39, 'DN Nagar Road':40, 'Mulund':41,\n",
    "       'Nalasopara':42, 'raheja vihar':43, 'Powai Lake':44, 'Tolaram Colony':45,\n",
    "       'Taloja':46, 'Thane West':47, 'Vangani':48, 'Sector 5 Ulwe':49,\n",
    "       'Sector 12 New Panvel':50, 'Sector 17 Ulwe':51, 'Sector 9 Kamothe':52,\n",
    "       'Sector 19 Kharghar':53, 'Navi Basti':54, 'Sector 12 Kamothe':55,\n",
    "       'Sector 21 Kamothe':56, 'Rutu Enclave':57, 'taloja panchanand':58,\n",
    "       'Chembur':59, 'Sector 20 Kamothe':60, 'Sector 22 Kamothe':61,\n",
    "       'Sector 18 Kamothe':62, 'Sector 5 Kamothe':63, 'Sector 6A Kamothe':64,\n",
    "       'Sector 11 Kamothe':65, 'Sector 18 Ulwe':66, 'azad nagar':67,\n",
    "       'Sindhi Society Chembur':68, 'Kurla':69, 'Sahkar Nagar':70, 'Deonar':71,\n",
    "       'Thane':72, 'Jankalyan Nagar':73, 'Badlapur':74, 'Ambarnath':75,\n",
    "       'Ambernath West':76, 'Vakola':77, 'Kamothe':78, 'Sector 17 Kamothe':79,\n",
    "       'Almeida Park':80, 'Khar':81, 'Bandra West':82, 'Pali Hill':83, 'Palghar':84,\n",
    "       'Sector 21 Kharghar':85, 'Sector 12 Kharghar':86, 'Vivek Vidyalaya Marg':87,\n",
    "       'Vasai':88, 'Nahur':89, 'Badlapur West':90, 'Panvel':91, 'Kalyan':92,\n",
    "       'Badlapur East':93, 'Mira Bhayandar':94, 'Juhu':95, 'Naigaon East':96,\n",
    "       'Ghodbunder Road':97, 'Sector 21 Ulwe':98, 'Bandra East':99, 'Dronagiri':100,\n",
    "       'Nerul':101, 'Karanjade':102, 'Sanpada':103, 'Sector 8 Ulwe':104, 'Sector 3 Ulwe':105,\n",
    "       'Sector 23 Ulwe':106, 'Sector 19 Ulwe':107, 'Grant Road West':108, 'Bhiwandi':108,\n",
    "       'Dadar East':109, 'Ghatkopar':110, 'Breach Candy':111, 'Asangaon':112,\n",
    "       'Gulmohar Road':113, 'Kolshet Road':114, 'Sector 19A Kopar Khairane':115,\n",
    "       'Koper Khairane':115, 'Eastern Express Highway Vikhroli':116, 'Magathane':117,\n",
    "       'Rawal Pada':118, 'Ambernath East':119, 'Dokali Pada':120, 'Dattapada':121,\n",
    "       'Rajendra Nagar':122, 'Kulupwadi':123, 'West Amardeep Colony':124,\n",
    "       'Pant Nagar':125, 'Kondivita Road':126, 'Koparkhairane Station Road':126,\n",
    "       'Four Bungalows':127, 'kolshet':127, 'Hiranandani Meadows':128, 'Petali':129,\n",
    "       'Sector 34C Kharghar ':130, 'Ghatkopar East':131, 'Kalyan West':132,\n",
    "       'Shirgaon':133, 'Mahatma Gandhi Road':134, 'Manvel pada Road':135, 'MG Road':136,\n",
    "       'juhu tara':137, 'Mira Road':138, 'Palm Beach':139, 'Sector 19 Kamothe':140,\n",
    "       'Tilak Nagar':141, 'Ghatkopar West':142, 'Tardeo':143, 'Mahalaxmi':144,\n",
    "       'Dahisar West':145, 'Mulund West':146, 'Natakwala Lane':146,\n",
    "       'Devidas Cross Lane':147, 'Mira Road and Beyond':148, 'Haridas Nagar':149,\n",
    "        'Shimpoli ':150, 'Rustomjee Global City':151, 'Sunil Nagar':152,\n",
    "       'Sector 30 Kharghar':153, 'Sector 13 Khanda Colony':154,\n",
    "       'Sector 16 Airoli':155, 'Ranjanpada':156, 'Sector 35I Kharghar':157,\n",
    "       'Sector 35D Kharghar':158, 'Sector 34 A Kharghar':159,\n",
    "       'Sector 36 Kharghar':160, 'Sector 11 Belapur':161, 'Sector 34B Kharghar':162,\n",
    "       'Dombivali East':163, 'Sector 50 Seawoods':164, 'Sector 7 Kharghar':164,\n",
    "       'Lokhandwala Township':165, 'Andheri':166, 'Andheri West':167, 'Shastri Nagar':168,\n",
    "       'Wadala ':169, 'Kalwa':170, 'PARSIK NAGAR':171, 'Maharashtra Nagar':172,\n",
    "       'Patlipada':173, 'Belapur':174, 'Seawoods':175, 'Majiwada':176, '4 Bunglows':177,\n",
    "       'Airoli':178, 'Sector 10 Khanda Colony':179, 'Kharegaon':180, 'Panch Pakhadi':181,\n",
    "       'Sector 36 Kamothe':183, 'Dombivli West':184, 'Godrej Hill':185,\n",
    "       'Ganesh Nagar':186, 'Haware City':187, 'Akurli Nagar':188, 'Kasar vadavali':189,\n",
    "       'Vasai West':190, 'Katrap':191, 'Kasheli':192, 'Vasind':193, 'KASHELI':194,\n",
    "       'Shakti Nagar':195, 'Bhayandar East':196, 'Dahisar East':197, 'Mira Road East':198,\n",
    "       'Ulhasnagar':199, 'Koproli':200, 'Mumbai Central':201, 'Greater Khanda':202,\n",
    "       'Manpada':203, 'Sector 2 Ulwe':204, 'Govind nagar':205,\n",
    "       'Krishanlal Marwah Marg':206, 'Sector 9 Ulwe':207, 'Vikhroli':208, 'Kalamboli':209,\n",
    "       'Lokhandwala':210, 'Patel Nagar':211, 'Khar West':212, 'Sector 11 Kharghar':213,\n",
    "       'Ghansoli':214, 'Sector 8 Sanpada':215, 'Jeejamata Nagar':216, 'Pandurangwadi':217,\n",
    "       'Shreyas Colony':218, 'Kannamwar Nagar II':219, 'gokuldham':220,\n",
    "       'Bangur Nagar':221, 'Shivaji Colony':222, 'Jawahar Nagar':223,\n",
    "       'Vedant Complex':224, 'Titwala':225, 'Govandi':226, 'Vasant Vihar':227,\n",
    "       'Samata nagar':228, 'Wadi Bandar':229, 'Kapurbawadi':230, 'Ramdev Park':231,\n",
    "       'Sector 35 Kamothe':232,'Diva Gaon':234,\n",
    "       'Borivali':235, 'Gundavali Gaothan':236, 'Koldongri':237, 'Saki Naka':238,\n",
    "       'Bhayandar West':239, 'Versova':240, 'Hanuman Nagar':241, 'Worli ':242,\n",
    "       'Shiv Sagar Estate':243, 'Sriprastha':244, 'Morya Nagar':245, 'Powai':246,\n",
    "       'Agripada':247, 'Sion':248, 'Girgaon':249, 'IT Colony':250, 'Bhayandarpada':251,\n",
    "       'Sector 16 Kamothe':252, 'Sector 24 Kamothe':253, 'Sector35D Kharghar':254,\n",
    "       'Malad':255, 'Haji Ali':256, 'Majiwada thane':257, 'Yogi Hills':258,\n",
    "       'Sector 19 Nerul':259, 'Owale':260, 'Taloja ':261, 'Rasayani':262,\n",
    "       'Sector 10 Kamothe':263, 'kavesar':264, 'Kopara':265,\n",
    "       'royal palms goregaon east':266, 'Dadar West':267, 'vrindavan society':268,\n",
    "       'CBD Belapur East':269, 'Parel Village':270, 'Karave Nagar':271,\n",
    "       'Sector 19A Nerul':272, 'Antop Hill':273, 'Suman Nagar':274, 'Bhakti Park':275,\n",
    "       'Hanuman Chowk':276, 'Willingdon':277, 'VishnuNagar':278, 'Vichumbe':279, 'Vashi':280,\n",
    "       'Poonam Sagar Complex':281, 'Santacruz East':282, 'Mulund East':283,\n",
    "       'Sector 9 Ghansoli':284, 'Balkum':285, 'Hiranandani Estates':286,\n",
    "       'Vartak Nagar':287, 'Charkop':288, 'dhanukarwadi':289, 'Vazira':290,\n",
    "       'Boriwali West':291,'Four Bunglows':292,'Palava':293,'Seven Bunglow':294,'Vile Parle East':295,\n",
    "       'Sainath Nagar':296,'Kapur Bawdi':297,'Tiku ji ni wadi':298, 'Kolshet Industrial Area':299,\n",
    "       'Sector 16 Ulwe':300,'Anand Nagar Thane West':301, 'Marine Lines':302, 'Bandra Kurla Complex':303,\n",
    "       'Neral':304, 'Shil Phata':305, 'Secto 8 Ulwe':306, 'matunga east':307, 'Dharavi':308,\n",
    "       'Vile Parle West':309, 'Anjurdive':310, 'Uran':311, 'Boisar':312,'Kanjurmarg East':313, 'Kurla West':314, 'Sewri':315,\n",
    "       'Matunga':316,'Malabar Hill':317, 'Ambivali':318, 'Vijay Nagar':319, 'Chedda Nagar':320,'Kurla East':321,\n",
    "       'Kharodi':322, 'Vikhroli West':323,'Wadala East':324,'Palidevad':325,    'Vikroli East':326,\n",
    "       'Mahim':327,  'Khalapur':328,  'Karjat':329, 'Vitthalwadi':330,  'Bhoiwada Kalyan':331,\n",
    "       'Beturkar Pada':332, 'Ambivli':333,'Nilje Gaon':334,  'Khopoli':335, 'Gulal Wadi':336,'Chandivali':337,'Nere':338,\n",
    "       'Kewale':339, 'Sector 9 Airoli':340, 'Sen Nagar':341, 'Adaigaon':342,'Gandhar Nagar':343, 'Byculla':344,\n",
    "       'Napeansea Road':345,'Oshiwara Police Station Road':346, 'Padle Gaon':347, 'Peddar Road':348,\n",
    "       'Poddar Road':349, 'Pokhran Road':350,'Roadpali':351,'roadpali navimumbai':352,'Shilphata Road Thane':353,\n",
    "       'Soniwadi Road':354,'Thane Belapur Road Kalwa':355, 'TPS Road':356,'Vakola Pipeline Road':357,'Yari Road':358})\n"
   ]
  },
  {
   "cell_type": "code",
   "execution_count": 18,
   "metadata": {
    "colab": {
     "base_uri": "https://localhost:8080/"
    },
    "id": "erhO2jivZg6F",
    "outputId": "76933b2e-f0cd-498d-8a29-0bbd41256d64"
   },
   "outputs": [
    {
     "name": "stdout",
     "output_type": "stream",
     "text": [
      "         price  sqrt  location  bhk  New/Resale  Gymnasium  Lift Available  \\\n",
      "785   21000000   900       NaN    2           0          0               0   \n",
      "1489  53000000  1900       NaN    4           0          0               1   \n",
      "\n",
      "      CarParking  Maintenance Staff  24x7 Security  Children's Play Area  \\\n",
      "785            0                  0              0                     0   \n",
      "1489           1                  1              1                     0   \n",
      "\n",
      "      Clubhouse  Intercom  Landscaped Gardens  Indoor Games  Gas Connection  \\\n",
      "785           0         0                   0             0               1   \n",
      "1489          0         0                   0             0               0   \n",
      "\n",
      "      Jogging Track  Swimming Pool  \n",
      "785               0              0  \n",
      "1489              0              0  \n"
     ]
    }
   ],
   "source": [
    "\n",
    "# Assuming 'data' is your DataFrame\n",
    "empty_places = data_clean[data_clean.isna().any(axis=1)]\n",
    "\n",
    "# Display rows with NaN values\n",
    "print(empty_places)\n"
   ]
  },
  {
   "cell_type": "code",
   "execution_count": 19,
   "metadata": {
    "id": "2KoP1u1Ca1jz"
   },
   "outputs": [],
   "source": [
    "# Drop rows 785 and 1489\n",
    "data_clean.drop([785, 1489], inplace=True)\n"
   ]
  },
  {
   "cell_type": "code",
   "execution_count": 20,
   "metadata": {
    "colab": {
     "base_uri": "https://localhost:8080/"
    },
    "id": "qmfAHy8lbBBx",
    "outputId": "5b7495de-4bd4-4f27-9c51-8d9a728192fb"
   },
   "outputs": [
    {
     "name": "stdout",
     "output_type": "stream",
     "text": [
      "Empty DataFrame\n",
      "Columns: [price, sqrt, location, bhk, New/Resale, Gymnasium, Lift Available, CarParking, Maintenance Staff, 24x7 Security, Children's Play Area, Clubhouse, Intercom, Landscaped Gardens, Indoor Games, Gas Connection, Jogging Track, Swimming Pool]\n",
      "Index: []\n"
     ]
    }
   ],
   "source": [
    "\n",
    "# Assuming 'data' is your DataFrame\n",
    "empty_places = data_clean[data_clean.isna().any(axis=1)]\n",
    "\n",
    "# Display rows with NaN values\n",
    "print(empty_places)"
   ]
  },
  {
   "cell_type": "code",
   "execution_count": 21,
   "metadata": {
    "id": "ey6u1INoJrRi"
   },
   "outputs": [],
   "source": [
    "#Splitting data into x and y (x:not Dependable variable, y:Dependable variable)\n",
    "X=data_clean.drop(['price'],axis=1)  #x axis\n",
    "y=data_clean['price']                #y axis"
   ]
  },
  {
   "cell_type": "code",
   "execution_count": 22,
   "metadata": {
    "id": "GuvkVs_JNUss"
   },
   "outputs": [],
   "source": [
    "#importing sklearn for training and testing data\n",
    "from sklearn.model_selection import train_test_split"
   ]
  },
  {
   "cell_type": "code",
   "execution_count": 23,
   "metadata": {
    "id": "qxVi1km3NZhp"
   },
   "outputs": [],
   "source": [
    "X_train,X_test,y_train,y_test=train_test_split(X,y,test_size=0.3 , random_state=42)"
   ]
  },
  {
   "cell_type": "code",
   "execution_count": 24,
   "metadata": {},
   "outputs": [
    {
     "name": "stdout",
     "output_type": "stream",
     "text": [
      "1231   -0.136116\n",
      "1411   -0.355501\n",
      "1790   -0.023985\n",
      "4703   -0.170242\n",
      "4197    0.278279\n",
      "          ...   \n",
      "3774    0.658548\n",
      "5193    0.790179\n",
      "5228   -0.410981\n",
      "5392   -0.355501\n",
      "861    -0.160492\n",
      "Name: price, Length: 4402, dtype: float64\n"
     ]
    }
   ],
   "source": [
    "import numpy as np\n",
    "\n",
    "# Assuming X_train, y_train are your training features and target variable\n",
    "\n",
    "# Calculate Z-scores for the target variable\n",
    "mean_y_train = np.mean(y_train)\n",
    "std_y_train = np.std(y_train)\n",
    "z_scores_y_train = (y_train - mean_y_train) / std_y_train\n",
    "print(z_scores_y_train)\n",
    "upper_threshold = 2.0\n",
    "\n",
    "# Find indices of outliers based on Z-scores\n",
    "outlier_indices_y_train = np.where((z_scores_y_train > upper_threshold))[0]\n",
    "\n",
    "# Remove outliers from the target variable\n",
    "y_train_cleaned = np.delete(y_train, outlier_indices_y_train)\n",
    "\n",
    "# Remove corresponding entries from the features (X_train)\n",
    "X_train_cleaned = np.delete(X_train, outlier_indices_y_train, axis=0)\n",
    "\n",
    "# Rest of your code using cleaned data ...\n",
    "\n",
    "\n"
   ]
  },
  {
   "cell_type": "code",
   "execution_count": 25,
   "metadata": {},
   "outputs": [],
   "source": [
    "import numpy as np\n",
    "\n",
    "# Assuming X_train, y_train are your training features and target variable\n",
    "# Assuming X_test, y_test are your test features and target variable\n",
    "\n",
    "# Calculate Z-scores for the test target variable\n",
    "mean_y_test = np.mean(y_test)\n",
    "std_y_test = np.std(y_test)\n",
    "z_scores_y_test = (y_test - mean_y_test) / std_y_test\n",
    "\n",
    "# Find indices of outliers based on Z-scores (using the same thresholds)\n",
    "outlier_indices_y_test = np.where(z_scores_y_test > upper_threshold)[0]\n",
    "\n",
    "# Remove outliers from the test target variable\n",
    "y_test_cleaned = np.delete(y_test, outlier_indices_y_test)\n",
    "\n",
    "# Remove corresponding entries from the test features\n",
    "X_test_cleaned = np.delete(X_test, outlier_indices_y_test, axis=0)\n",
    "\n"
   ]
  },
  {
   "cell_type": "code",
   "execution_count": 26,
   "metadata": {
    "id": "6EfVev2AN4e4"
   },
   "outputs": [],
   "source": [
    "#Importing Regression ML algorithms and models from sklearn\n",
    "from sklearn.linear_model import LinearRegression\n",
    "from sklearn.svm import SVR\n",
    "from sklearn.ensemble import RandomForestRegressor\n",
    "from sklearn.ensemble import GradientBoostingRegressor"
   ]
  },
  {
   "cell_type": "code",
   "execution_count": 27,
   "metadata": {
    "colab": {
     "base_uri": "https://localhost:8080/",
     "height": 74
    },
    "id": "LYPKWYo9N_cV",
    "outputId": "85ea826d-4177-4886-8139-15a109dc4438"
   },
   "outputs": [
    {
     "data": {
      "text/html": [
       "<style>#sk-container-id-1 {color: black;}#sk-container-id-1 pre{padding: 0;}#sk-container-id-1 div.sk-toggleable {background-color: white;}#sk-container-id-1 label.sk-toggleable__label {cursor: pointer;display: block;width: 100%;margin-bottom: 0;padding: 0.3em;box-sizing: border-box;text-align: center;}#sk-container-id-1 label.sk-toggleable__label-arrow:before {content: \"▸\";float: left;margin-right: 0.25em;color: #696969;}#sk-container-id-1 label.sk-toggleable__label-arrow:hover:before {color: black;}#sk-container-id-1 div.sk-estimator:hover label.sk-toggleable__label-arrow:before {color: black;}#sk-container-id-1 div.sk-toggleable__content {max-height: 0;max-width: 0;overflow: hidden;text-align: left;background-color: #f0f8ff;}#sk-container-id-1 div.sk-toggleable__content pre {margin: 0.2em;color: black;border-radius: 0.25em;background-color: #f0f8ff;}#sk-container-id-1 input.sk-toggleable__control:checked~div.sk-toggleable__content {max-height: 200px;max-width: 100%;overflow: auto;}#sk-container-id-1 input.sk-toggleable__control:checked~label.sk-toggleable__label-arrow:before {content: \"▾\";}#sk-container-id-1 div.sk-estimator input.sk-toggleable__control:checked~label.sk-toggleable__label {background-color: #d4ebff;}#sk-container-id-1 div.sk-label input.sk-toggleable__control:checked~label.sk-toggleable__label {background-color: #d4ebff;}#sk-container-id-1 input.sk-hidden--visually {border: 0;clip: rect(1px 1px 1px 1px);clip: rect(1px, 1px, 1px, 1px);height: 1px;margin: -1px;overflow: hidden;padding: 0;position: absolute;width: 1px;}#sk-container-id-1 div.sk-estimator {font-family: monospace;background-color: #f0f8ff;border: 1px dotted black;border-radius: 0.25em;box-sizing: border-box;margin-bottom: 0.5em;}#sk-container-id-1 div.sk-estimator:hover {background-color: #d4ebff;}#sk-container-id-1 div.sk-parallel-item::after {content: \"\";width: 100%;border-bottom: 1px solid gray;flex-grow: 1;}#sk-container-id-1 div.sk-label:hover label.sk-toggleable__label {background-color: #d4ebff;}#sk-container-id-1 div.sk-serial::before {content: \"\";position: absolute;border-left: 1px solid gray;box-sizing: border-box;top: 0;bottom: 0;left: 50%;z-index: 0;}#sk-container-id-1 div.sk-serial {display: flex;flex-direction: column;align-items: center;background-color: white;padding-right: 0.2em;padding-left: 0.2em;position: relative;}#sk-container-id-1 div.sk-item {position: relative;z-index: 1;}#sk-container-id-1 div.sk-parallel {display: flex;align-items: stretch;justify-content: center;background-color: white;position: relative;}#sk-container-id-1 div.sk-item::before, #sk-container-id-1 div.sk-parallel-item::before {content: \"\";position: absolute;border-left: 1px solid gray;box-sizing: border-box;top: 0;bottom: 0;left: 50%;z-index: -1;}#sk-container-id-1 div.sk-parallel-item {display: flex;flex-direction: column;z-index: 1;position: relative;background-color: white;}#sk-container-id-1 div.sk-parallel-item:first-child::after {align-self: flex-end;width: 50%;}#sk-container-id-1 div.sk-parallel-item:last-child::after {align-self: flex-start;width: 50%;}#sk-container-id-1 div.sk-parallel-item:only-child::after {width: 0;}#sk-container-id-1 div.sk-dashed-wrapped {border: 1px dashed gray;margin: 0 0.4em 0.5em 0.4em;box-sizing: border-box;padding-bottom: 0.4em;background-color: white;}#sk-container-id-1 div.sk-label label {font-family: monospace;font-weight: bold;display: inline-block;line-height: 1.2em;}#sk-container-id-1 div.sk-label-container {text-align: center;}#sk-container-id-1 div.sk-container {/* jupyter's `normalize.less` sets `[hidden] { display: none; }` but bootstrap.min.css set `[hidden] { display: none !important; }` so we also need the `!important` here to be able to override the default hidden behavior on the sphinx rendered scikit-learn.org. See: https://github.com/scikit-learn/scikit-learn/issues/21755 */display: inline-block !important;position: relative;}#sk-container-id-1 div.sk-text-repr-fallback {display: none;}</style><div id=\"sk-container-id-1\" class=\"sk-top-container\"><div class=\"sk-text-repr-fallback\"><pre>GradientBoostingRegressor()</pre><b>In a Jupyter environment, please rerun this cell to show the HTML representation or trust the notebook. <br />On GitHub, the HTML representation is unable to render, please try loading this page with nbviewer.org.</b></div><div class=\"sk-container\" hidden><div class=\"sk-item\"><div class=\"sk-estimator sk-toggleable\"><input class=\"sk-toggleable__control sk-hidden--visually\" id=\"sk-estimator-id-1\" type=\"checkbox\" checked><label for=\"sk-estimator-id-1\" class=\"sk-toggleable__label sk-toggleable__label-arrow\">GradientBoostingRegressor</label><div class=\"sk-toggleable__content\"><pre>GradientBoostingRegressor()</pre></div></div></div></div></div>"
      ],
      "text/plain": [
       "GradientBoostingRegressor()"
      ]
     },
     "execution_count": 27,
     "metadata": {},
     "output_type": "execute_result"
    }
   ],
   "source": [
    "#Creating instances of the algorithm\n",
    "LR=LinearRegression()\n",
    "LR.fit(X_train_cleaned, y_train_cleaned)\n",
    "\n",
    "svr=SVR()\n",
    "svr.fit(X_train_cleaned, y_train_cleaned)\n",
    "\n",
    "\n",
    "RF=RandomForestRegressor(random_state=42)\n",
    "RF.fit(X_train_cleaned, y_train_cleaned)\n",
    "\n",
    "GR=GradientBoostingRegressor()\n",
    "GR.fit(X_train_cleaned, y_train_cleaned)\n",
    "\n",
    "\n",
    "\n",
    "\n",
    "\n"
   ]
  },
  {
   "cell_type": "code",
   "execution_count": 28,
   "metadata": {
    "colab": {
     "base_uri": "https://localhost:8080/"
    },
    "id": "gnxTfTh6OEmp",
    "outputId": "7dfc70cc-ae22-4668-a189-846085e9cf29"
   },
   "outputs": [
    {
     "name": "stdout",
     "output_type": "stream",
     "text": [
      "        Actual            LR           svr            RF            GR\n",
      "0      2300000  1.142280e+07  9.200083e+06  2.407117e+06  5.525080e+06\n",
      "1      6200000  8.005582e+06  9.199845e+06  1.087750e+07  1.022850e+07\n",
      "2      4800000  1.121735e+07  9.199925e+06  4.807088e+06  8.102767e+06\n",
      "3      9200000  1.516375e+07  9.200212e+06  9.251730e+06  1.138616e+07\n",
      "4     14500000  1.156662e+07  9.199998e+06  6.953823e+06  8.936782e+06\n",
      "...        ...           ...           ...           ...           ...\n",
      "1817   9500000  6.974514e+06  9.199906e+06  8.867000e+06  9.547072e+06\n",
      "1818   6000000  1.266806e+07  9.200286e+06  7.048333e+06  9.711696e+06\n",
      "1819   5150000  8.746818e+06  9.199971e+06  5.681480e+06  6.950223e+06\n",
      "1820   3500000  5.772435e+06  9.199921e+06  5.275390e+06  4.683708e+06\n",
      "1821  53000000  2.254131e+07  9.200435e+06  4.143692e+07  3.216259e+07\n",
      "\n",
      "[1822 rows x 5 columns]\n"
     ]
    }
   ],
   "source": [
    "#Comparing results of training with test data and prediction is stored in variables\n",
    "y_pred1=LR.predict(X_test_cleaned)\n",
    "y_pred2=svr.predict(X_test_cleaned)\n",
    "y_pred3=RF.predict(X_test_cleaned)\n",
    "y_pred4=GR.predict(X_test_cleaned)\n",
    "df1=pd.DataFrame({'Actual':y_test_cleaned,'LR':y_pred1,'svr':y_pred2,'RF':y_pred3,'GR':y_pred4,})\n",
    "print(df1)\n"
   ]
  },
  {
   "cell_type": "code",
   "execution_count": 29,
   "metadata": {
    "colab": {
     "base_uri": "https://localhost:8080/",
     "height": 463
    },
    "id": "O74B7CFmcGrL",
    "outputId": "e9dc5734-b4ba-4999-966d-f6d1b245fc2b"
   },
   "outputs": [
    {
     "data": {
      "text/plain": [
       "<matplotlib.legend.Legend at 0x28503613150>"
      ]
     },
     "execution_count": 29,
     "metadata": {},
     "output_type": "execute_result"
    },
    {
     "data": {
      "image/png": "[encoded data removed]",
      "text/plain": [
       "<Figure size 640x480 with 4 Axes>"
      ]
     },
     "metadata": {},
     "output_type": "display_data"
    }
   ],
   "source": [
    "#Graphical plotting of each regression model with its actual and predicted value competing eachothers\n",
    "import matplotlib.pyplot as plt\n",
    "plt.subplot(221)\n",
    "plt.plot(df1['Actual'].iloc[0:11],label='Actual')\n",
    "plt.plot(df1['LR'].iloc[0:11],label='LR')\n",
    "plt.legend()\n",
    "\n",
    "plt.subplot(222)\n",
    "plt.plot(df1['Actual'].iloc[0:11],label='Actual')\n",
    "plt.plot(df1['svr'].iloc[0:11],label='svr')\n",
    "plt.legend()\n",
    "\n",
    "plt.subplot(223)\n",
    "plt.plot(df1['Actual'].iloc[0:11],label='Actual')\n",
    "plt.plot(df1['RF'].iloc[0:11],label='RF')\n",
    "plt.legend()\n",
    "\n",
    "plt.subplot(224)\n",
    "plt.plot(df1['Actual'].iloc[0:11],label='Actual')\n",
    "plt.plot(df1['GR'].iloc[0:11],label='GR')\n",
    "plt.legend()\n",
    "\n"
   ]
  },
  {
   "cell_type": "code",
   "execution_count": 30,
   "metadata": {
    "id": "FWYDk1GvcvRa"
   },
   "outputs": [],
   "source": [
    "#Importing metric system r2 score\n",
    "from sklearn import metrics"
   ]
  },
  {
   "cell_type": "code",
   "execution_count": 31,
   "metadata": {
    "colab": {
     "base_uri": "https://localhost:8080/"
    },
    "id": "VZGfcYvLdSlW",
    "outputId": "1c4c9c14-def5-4c91-fc68-7d9dc4159844"
   },
   "outputs": [
    {
     "name": "stdout",
     "output_type": "stream",
     "text": [
      "0.4802935168629 -0.0887107925338444 0.7846320181255935 0.7449216070121116\n"
     ]
    }
   ],
   "source": [
    "score1=metrics.r2_score(y_test_cleaned,y_pred1)\n",
    "score2=metrics.r2_score(y_test_cleaned,y_pred2)\n",
    "score3=metrics.r2_score(y_test_cleaned,y_pred3)\n",
    "score4=metrics.r2_score(y_test_cleaned,y_pred4)\n",
    "print(score1,score2,score3,score4)"
   ]
  },
  {
   "cell_type": "code",
   "execution_count": 32,
   "metadata": {
    "colab": {
     "base_uri": "https://localhost:8080/",
     "height": 98
    },
    "id": "DtFt2EoAdeil",
    "outputId": "e0513c0b-cdb6-407c-ca4f-527f6266ab95"
   },
   "outputs": [
    {
     "data": {
      "text/html": [
       "<div>\n",
       "<style scoped>\n",
       "    .dataframe tbody tr th:only-of-type {\n",
       "        vertical-align: middle;\n",
       "    }\n",
       "\n",
       "    .dataframe tbody tr th {\n",
       "        vertical-align: top;\n",
       "    }\n",
       "\n",
       "    .dataframe thead th {\n",
       "        text-align: right;\n",
       "    }\n",
       "</style>\n",
       "<table border=\"1\" class=\"dataframe\">\n",
       "  <thead>\n",
       "    <tr style=\"text-align: right;\">\n",
       "      <th></th>\n",
       "      <th>sqrt</th>\n",
       "      <th>location</th>\n",
       "      <th>bhk</th>\n",
       "      <th>New/Resale</th>\n",
       "      <th>Gymnasium</th>\n",
       "      <th>Lift Available</th>\n",
       "      <th>CarParking</th>\n",
       "      <th>Maintenance Staff</th>\n",
       "      <th>24x7 Security</th>\n",
       "      <th>Children's Play Area</th>\n",
       "      <th>Clubhouse</th>\n",
       "      <th>Intercom</th>\n",
       "      <th>Landscaped Gardens</th>\n",
       "      <th>Indoor Games</th>\n",
       "      <th>Gas Connection</th>\n",
       "      <th>Jogging Track</th>\n",
       "      <th>Swimming Pool</th>\n",
       "    </tr>\n",
       "  </thead>\n",
       "  <tbody>\n",
       "    <tr>\n",
       "      <th>1</th>\n",
       "      <td>700</td>\n",
       "      <td>74</td>\n",
       "      <td>3</td>\n",
       "      <td>1</td>\n",
       "      <td>0</td>\n",
       "      <td>1</td>\n",
       "      <td>1</td>\n",
       "      <td>0</td>\n",
       "      <td>0</td>\n",
       "      <td>0</td>\n",
       "      <td>1</td>\n",
       "      <td>0</td>\n",
       "      <td>1</td>\n",
       "      <td>1</td>\n",
       "      <td>0</td>\n",
       "      <td>0</td>\n",
       "      <td>1</td>\n",
       "    </tr>\n",
       "  </tbody>\n",
       "</table>\n",
       "</div>"
      ],
      "text/plain": [
       "   sqrt  location  bhk  New/Resale  Gymnasium  Lift Available  CarParking  \\\n",
       "1   700        74    3           1          0               1           1   \n",
       "\n",
       "   Maintenance Staff  24x7 Security  Children's Play Area  Clubhouse  \\\n",
       "1                  0              0                     0          1   \n",
       "\n",
       "   Intercom  Landscaped Gardens  Indoor Games  Gas Connection  Jogging Track  \\\n",
       "1         0                   1             1               0              0   \n",
       "\n",
       "   Swimming Pool  \n",
       "1              1  "
      ]
     },
     "execution_count": 32,
     "metadata": {},
     "output_type": "execute_result"
    }
   ],
   "source": [
    "\n",
    "data_new={'sqrt':700,'location':74,'bhk':3,'New/Resale':1,'Gymnasium':0,'Lift Available':1,'CarParking':1,'Maintenance Staff':0,'24x7 Security':0,\"Children's Play Area\":0,'Clubhouse':1,'Intercom':0 ,'Landscaped Gardens':1,'Indoor Games':1 ,'Gas Connection':0 ,'Jogging Track':0,'Swimming Pool':1}\n",
    "df=pd.DataFrame(data_new,index=[1])\n",
    "df"
   ]
  },
  {
   "cell_type": "code",
   "execution_count": 33,
   "metadata": {
    "colab": {
     "base_uri": "https://localhost:8080/",
     "height": 74
    },
    "id": "IDk_rZsMhU_L",
    "outputId": "35e13d6d-4a81-495b-d4d1-1292073921b4",
    "scrolled": true
   },
   "outputs": [
    {
     "data": {
      "text/html": [
       "<style>#sk-container-id-2 {color: black;}#sk-container-id-2 pre{padding: 0;}#sk-container-id-2 div.sk-toggleable {background-color: white;}#sk-container-id-2 label.sk-toggleable__label {cursor: pointer;display: block;width: 100%;margin-bottom: 0;padding: 0.3em;box-sizing: border-box;text-align: center;}#sk-container-id-2 label.sk-toggleable__label-arrow:before {content: \"▸\";float: left;margin-right: 0.25em;color: #696969;}#sk-container-id-2 label.sk-toggleable__label-arrow:hover:before {color: black;}#sk-container-id-2 div.sk-estimator:hover label.sk-toggleable__label-arrow:before {color: black;}#sk-container-id-2 div.sk-toggleable__content {max-height: 0;max-width: 0;overflow: hidden;text-align: left;background-color: #f0f8ff;}#sk-container-id-2 div.sk-toggleable__content pre {margin: 0.2em;color: black;border-radius: 0.25em;background-color: #f0f8ff;}#sk-container-id-2 input.sk-toggleable__control:checked~div.sk-toggleable__content {max-height: 200px;max-width: 100%;overflow: auto;}#sk-container-id-2 input.sk-toggleable__control:checked~label.sk-toggleable__label-arrow:before {content: \"▾\";}#sk-container-id-2 div.sk-estimator input.sk-toggleable__control:checked~label.sk-toggleable__label {background-color: #d4ebff;}#sk-container-id-2 div.sk-label input.sk-toggleable__control:checked~label.sk-toggleable__label {background-color: #d4ebff;}#sk-container-id-2 input.sk-hidden--visually {border: 0;clip: rect(1px 1px 1px 1px);clip: rect(1px, 1px, 1px, 1px);height: 1px;margin: -1px;overflow: hidden;padding: 0;position: absolute;width: 1px;}#sk-container-id-2 div.sk-estimator {font-family: monospace;background-color: #f0f8ff;border: 1px dotted black;border-radius: 0.25em;box-sizing: border-box;margin-bottom: 0.5em;}#sk-container-id-2 div.sk-estimator:hover {background-color: #d4ebff;}#sk-container-id-2 div.sk-parallel-item::after {content: \"\";width: 100%;border-bottom: 1px solid gray;flex-grow: 1;}#sk-container-id-2 div.sk-label:hover label.sk-toggleable__label {background-color: #d4ebff;}#sk-container-id-2 div.sk-serial::before {content: \"\";position: absolute;border-left: 1px solid gray;box-sizing: border-box;top: 0;bottom: 0;left: 50%;z-index: 0;}#sk-container-id-2 div.sk-serial {display: flex;flex-direction: column;align-items: center;background-color: white;padding-right: 0.2em;padding-left: 0.2em;position: relative;}#sk-container-id-2 div.sk-item {position: relative;z-index: 1;}#sk-container-id-2 div.sk-parallel {display: flex;align-items: stretch;justify-content: center;background-color: white;position: relative;}#sk-container-id-2 div.sk-item::before, #sk-container-id-2 div.sk-parallel-item::before {content: \"\";position: absolute;border-left: 1px solid gray;box-sizing: border-box;top: 0;bottom: 0;left: 50%;z-index: -1;}#sk-container-id-2 div.sk-parallel-item {display: flex;flex-direction: column;z-index: 1;position: relative;background-color: white;}#sk-container-id-2 div.sk-parallel-item:first-child::after {align-self: flex-end;width: 50%;}#sk-container-id-2 div.sk-parallel-item:last-child::after {align-self: flex-start;width: 50%;}#sk-container-id-2 div.sk-parallel-item:only-child::after {width: 0;}#sk-container-id-2 div.sk-dashed-wrapped {border: 1px dashed gray;margin: 0 0.4em 0.5em 0.4em;box-sizing: border-box;padding-bottom: 0.4em;background-color: white;}#sk-container-id-2 div.sk-label label {font-family: monospace;font-weight: bold;display: inline-block;line-height: 1.2em;}#sk-container-id-2 div.sk-label-container {text-align: center;}#sk-container-id-2 div.sk-container {/* jupyter's `normalize.less` sets `[hidden] { display: none; }` but bootstrap.min.css set `[hidden] { display: none !important; }` so we also need the `!important` here to be able to override the default hidden behavior on the sphinx rendered scikit-learn.org. See: https://github.com/scikit-learn/scikit-learn/issues/21755 */display: inline-block !important;position: relative;}#sk-container-id-2 div.sk-text-repr-fallback {display: none;}</style><div id=\"sk-container-id-2\" class=\"sk-top-container\"><div class=\"sk-text-repr-fallback\"><pre>RandomForestRegressor(random_state=42)</pre><b>In a Jupyter environment, please rerun this cell to show the HTML representation or trust the notebook. <br />On GitHub, the HTML representation is unable to render, please try loading this page with nbviewer.org.</b></div><div class=\"sk-container\" hidden><div class=\"sk-item\"><div class=\"sk-estimator sk-toggleable\"><input class=\"sk-toggleable__control sk-hidden--visually\" id=\"sk-estimator-id-2\" type=\"checkbox\" checked><label for=\"sk-estimator-id-2\" class=\"sk-toggleable__label sk-toggleable__label-arrow\">RandomForestRegressor</label><div class=\"sk-toggleable__content\"><pre>RandomForestRegressor(random_state=42)</pre></div></div></div></div></div>"
      ],
      "text/plain": [
       "RandomForestRegressor(random_state=42)"
      ]
     },
     "execution_count": 33,
     "metadata": {},
     "output_type": "execute_result"
    }
   ],
   "source": [
    "RF.fit(X,y)"
   ]
  },
  {
   "cell_type": "code",
   "execution_count": 34,
   "metadata": {
    "colab": {
     "base_uri": "https://localhost:8080/"
    },
    "id": "qQooVyOhhnRh",
    "outputId": "537b1d3e-0309-4dbf-9491-3e3c22dbb2f5"
   },
   "outputs": [
    {
     "name": "stdout",
     "output_type": "stream",
     "text": [
      "House price is :  16773558.789\n"
     ]
    }
   ],
   "source": [
    "new_pred = RF.predict(df)\n",
    "print(\"House price is : \",new_pred[0])"
   ]
  },
  {
   "cell_type": "code",
   "execution_count": 35,
   "metadata": {
    "id": "rAoyqmoviZuu"
   },
   "outputs": [],
   "source": [
    "import joblib"
   ]
  },
  {
   "cell_type": "code",
   "execution_count": 36,
   "metadata": {
    "colab": {
     "base_uri": "https://localhost:8080/"
    },
    "id": "SZ2Qn2Lgliye",
    "outputId": "c831c070-b6e2-4e2b-dc7c-e7a80508e03e"
   },
   "outputs": [
    {
     "data": {
      "text/plain": [
       "['House Price Predictor']"
      ]
     },
     "execution_count": 36,
     "metadata": {},
     "output_type": "execute_result"
    }
   ],
   "source": [
    "joblib.dump(RF,'House Price Predictor')"
   ]
  },
  {
   "cell_type": "code",
   "execution_count": 37,
   "metadata": {
    "id": "lf_BnW1VlsF_"
   },
   "outputs": [],
   "source": [
    "model=joblib.load('House Price Predictor')"
   ]
  },
  {
   "cell_type": "code",
   "execution_count": 38,
   "metadata": {
    "colab": {
     "base_uri": "https://localhost:8080/"
    },
    "id": "yMWUZdpPl6B5",
    "outputId": "4cf7f78e-0b58-4117-8a3f-b3ce05887214"
   },
   "outputs": [
    {
     "name": "stdout",
     "output_type": "stream",
     "text": [
      "[16773558.789]\n"
     ]
    }
   ],
   "source": [
    "print(model.predict(df))"
   ]
  },
  {
   "cell_type": "code",
   "execution_count": 39,
   "metadata": {},
   "outputs": [],
   "source": [
    "from tkinter import*"
   ]
  },
  {
   "cell_type": "code",
   "execution_count": 40,
   "metadata": {},
   "outputs": [],
   "source": [
    "import joblib"
   ]
  },
  {
   "cell_type": "code",
   "execution_count": null,
   "metadata": {
    "colab": {
     "base_uri": "https://localhost:8080/",
     "height": 219
    },
    "id": "SlxqJz0PmCXM",
    "outputId": "aff352e2-9a4c-45ab-ff04-a2101158ded3"
   },
   "outputs": [],
   "source": [
    "def show_entry():\n",
    "\n",
    "    p1=float(e1.get())\n",
    "    p2=float(e2.get())\n",
    "    p3=float(e3.get())\n",
    "    p4=float(e4.get())\n",
    "    p5=float(e5.get())\n",
    "    p6=float(e6.get())\n",
    "    p7=float(e7.get())\n",
    "    p8=float(e8.get())\n",
    "    p9=float(e9.get())\n",
    "    p10=float(e10.get())\n",
    "    p11=float(e11.get())\n",
    "    p12=float(e12.get())\n",
    "    p13=float(e13.get())\n",
    "    p14=float(e14.get())\n",
    "    p15=float(e15.get())\n",
    "    p16=float(e16.get())\n",
    "    p17=float(e17.get())\n",
    "\n",
    "    input_data=np.array([p1,p2,p3,p4,p5,p6,p7,p8,p9,p10,p11,p12,p13,p14,p15,p16,p17])\n",
    "    reshaped_data=input_data.reshape(1,-1)\n",
    "    result = model.predict(reshaped_data)\n",
    "\n",
    "    Label(master, text= \"House Price\").grid(row=19)\n",
    "    Label(master, text=result).grid(row=20)\n",
    "master=Tk()\n",
    "master.title(\"MUMBAI HOUSE PRICE PREDICTION\")\n",
    "label = Label(master, text=\"MUMBAI HOUSE PRICE PREDICTION\", bg=\"black\", fg=\"white\")\n",
    "label.grid(row=0, columnspan=2)\n",
    "\n",
    "label_sqrt = Label(master, text=\"Enter Sqrt\")\n",
    "label_sqrt.grid(row=1)\n",
    "\n",
    "label_loca = Label(master, text=\"Enter Location[1/359]\")\n",
    "label_loca.grid(row=2)\n",
    "\n",
    "label_bhk = Label(master, text=\"Enter bhk [1/7]\")\n",
    "label_bhk.grid(row=3)\n",
    "\n",
    "label_re = Label(master, text=\"Enter New/Resale[1/0]\")\n",
    "label_re.grid(row=4)\n",
    "\n",
    "label_gym = Label(master, text=\"Enter Gymnasium[1/0]\")\n",
    "label_gym.grid(row=5)\n",
    "\n",
    "label_lift = Label(master, text=\"Lift Available[1/0]\")\n",
    "label_lift.grid(row=6)\n",
    "\n",
    "label_park = Label(master, text=\"CarParking[1/0]\")\n",
    "label_park.grid(row=7)\n",
    "\n",
    "label_staff = Label(master, text=\"Maintainance Staff[1/0]\")\n",
    "label_staff.grid(row=8)\n",
    "\n",
    "label_secu = Label(master, text=\"24x7 Security[1/0]\")\n",
    "label_secu.grid(row=9)\n",
    "\n",
    "label_play = Label(master, text=\"Children's Play Area[1/0]\")\n",
    "label_play.grid(row=10)\n",
    "\n",
    "label_clubh = Label(master, text=\"Clubhouse[1/0]\")\n",
    "label_clubh.grid(row=11)\n",
    "\n",
    "label_inter = Label(master, text=\"Intercom[1/0]\")\n",
    "label_inter.grid(row=12)\n",
    "\n",
    "label_LandscapedGardens = Label(master, text=\"Landscaped Gardens[1/0]\")\n",
    "label_LandscapedGardens.grid(row=13)\n",
    "\n",
    "label_game = Label(master, text=\"Indoor Games[1/0]\")\n",
    "label_game.grid(row=14)\n",
    "\n",
    "label_gas = Label(master, text=\"Gas Connection[1/0]\")\n",
    "label_gas.grid(row=15)\n",
    "\n",
    "label_track = Label(master, text=\"Jogging Track[1/0]\")\n",
    "label_track.grid(row=16)\n",
    "\n",
    "label_pool = Label(master, text=\"Swimming Pool[1/0]\")\n",
    "label_pool.grid(row=17)\n",
    "\n",
    "#\n",
    "e1=Entry(master)\n",
    "e2=Entry(master)\n",
    "e3=Entry(master)\n",
    "e4=Entry(master)\n",
    "e5=Entry(master)\n",
    "e6=Entry(master)\n",
    "e7=Entry(master)\n",
    "e8=Entry(master)\n",
    "e9=Entry(master)\n",
    "e10=Entry(master)\n",
    "e11=Entry(master)\n",
    "e12=Entry(master)\n",
    "e13=Entry(master)\n",
    "e14=Entry(master)\n",
    "e15=Entry(master)\n",
    "e16=Entry(master)\n",
    "e17=Entry(master)\n",
    "\n",
    "\n",
    "e1.grid(row=1,column=1)\n",
    "e2.grid(row=2,column=1)\n",
    "e3.grid(row=3,column=1)\n",
    "e4.grid(row=4,column=1)\n",
    "e5.grid(row=5,column=1)\n",
    "e6.grid(row=6,column=1)\n",
    "e7.grid(row=7,column=1)\n",
    "e8.grid(row=8,column=1)\n",
    "e9.grid(row=9,column=1)\n",
    "e10.grid(row=10,column=1)\n",
    "e11.grid(row=11,column=1)\n",
    "e12.grid(row=12,column=1)\n",
    "e13.grid(row=13,column=1)\n",
    "e14.grid(row=14,column=1)\n",
    "e15.grid(row=15,column=1)\n",
    "e16.grid(row=16,column=1)\n",
    "e17.grid(row=17,column=1)\n",
    "\n",
    "Button(master,text=\"predict\",command=show_entry).grid()\n",
    "\n",
    "\n",
    "master.mainloop()\n"
   ]
  },
  {
   "cell_type": "code",
   "execution_count": null,
   "metadata": {},
   "outputs": [],
   "source": []
  }
 ],
 "metadata": {
  "colab": {
   "provenance": []
  },
  "kernelspec": {
   "display_name": "Python 3 (ipykernel)",
   "language": "python",
   "name": "python3"
  },
  "language_info": {
   "codemirror_mode": {
    "name": "ipython",
    "version": 3
   },
   "file_extension": ".py",
   "mimetype": "text/x-python",
   "name": "python",
   "nbconvert_exporter": "python",
   "pygments_lexer": "ipython3",
   "version": "3.11.4"
  }
 },
 "nbformat": 4,
 "nbformat_minor": 4
}
